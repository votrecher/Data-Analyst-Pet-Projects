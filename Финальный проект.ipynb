{
 "cells": [
  {
   "cell_type": "markdown",
   "id": "ca155ac3",
   "metadata": {},
   "source": [
    "# Финальный проект\n",
    "## Задание 1. A/B–тестирование\n",
    "### 1.1 Условие\n",
    "\n",
    "Одной из основных задач аналитика в нашей команде является корректное проведение экспериментов. Для этого мы применяем метод A/B–тестирования. В ходе тестирования одной гипотезы целевой группе была предложена новая механика оплаты услуг на сайте, у контрольной группы оставалась базовая механика. В качестве задания Вам необходимо проанализировать итоги эксперимента и сделать вывод, стоит ли запускать новую механику оплаты на всех пользователей.\n",
    "\n",
    "### 1.2 Входные данные\n",
    "\n",
    "В качестве входных данных Вы имеете 4 csv-файла:\n",
    "\n",
    "* `groups.csv` - файл с информацией о принадлежности пользователя к контрольной или экспериментальной группе (А – контроль, B – целевая группа) \n",
    "* `groups_add.csv` - дополнительный файл с пользователями, который вам прислали спустя 2 дня после передачи данных\n",
    "* `active_studs.csv` - файл с информацией о пользователях, которые зашли на платформу в дни проведения эксперимента. \n",
    "* `checks.csv` - файл с информацией об оплатах пользователей в дни проведения эксперимента. \n",
    "\n",
    "### 1.3 Вопросы\n",
    "\n",
    "Предлагаем Вам ответить на следующие вопросы:\n",
    "\n",
    "* На какие метрики Вы смотрите в ходе анализа и почему?\n",
    "* Имеются ли различия в показателях и с чем они могут быть связаны?\n",
    "* Являются ли эти различия статистически значимыми?\n",
    "* Стоит ли запускать новую механику на всех пользователей?\n",
    "Данный список вопросов не является обязательным, и Вы можете при своём ответе опираться на собственный план.\n",
    "\n",
    "### 1.4 Требования к ответу\n",
    "\n",
    "* При выполнении тестового задания необходимо использовать язык программирования Python. \n",
    "* В файле обязательно должны быть комментарии к тем действиям, которые Вы выполняете с данными. \n",
    "* Файл должен представлять собой законченный отчёт с выводами, сделанными в ходе исследования.\n",
    "\n",
    "## Задание 2. SQL\n",
    "### 2.1 Очень усердные ученики.\n",
    "\n",
    "### 2.1.1 Условие\n",
    "\n",
    "Образовательные курсы состоят из различных уроков, каждый из которых состоит из нескольких маленьких заданий. Каждое такое маленькое задание называется \"горошиной\".\n",
    "\n",
    "Назовём очень усердным учеником того пользователя, который хотя бы раз за текущий месяц правильно решил 20 горошин.\n",
    "\n",
    "### 2.1.2 Задача\n",
    "\n",
    "Дана таблица `default.peas`:\n",
    "\n",
    "Название атрибута | Тип атрибута | Смысловое значение\n",
    "------------------|--------------|-------------------\n",
    "st_id | int | ID ученика\n",
    "timest | timestamp | Время решения карточки\n",
    "correct | bool | Правильно ли решена горошина?\n",
    "subject | text | Дисциплина, в которой находится горошина\n",
    "\n",
    "Необходимо написать <ins>оптимальный запрос</ins>, который даст информацию о количестве очень усердных студентов.\n",
    "\n",
    "*NB! Под усердным студентом мы понимаем студента, который правильно решил 20 задач за текущий месяц.*\n",
    "\n",
    "### 2.2 Оптимизация воронки\n",
    "\n",
    "### 2.2.1 Условие\n",
    "\n",
    "Образовательная платформа предлагает пройти студентам курсы по модели trial: студент может решить бесплатно лишь 30 горошин в день. Для неограниченного количества заданий в определенной дисциплине студенту необходимо приобрести полный доступ. Команда провела эксперимент, где был протестирован новый экран оплаты.\n",
    "\n",
    "2.2.2 Задача\n",
    "\n",
    "Дана таблицы: `default.peas` (см. выше), `default.studs`:\n",
    "\n",
    "Название атрибута | Тип атрибута |Смысловое значение\n",
    "------------------|--------------|-------------------\n",
    "st_id|\tint |\tID ученика\n",
    "test_grp\t|text \t|Метка ученика в данном эксперименте\n",
    "\n",
    "и `default.final_project_check`:\n",
    "\n",
    "\n",
    "Название атрибута\t|Тип атрибута \t|Смысловое значение\n",
    "------------------|--------------|-------------------\n",
    "st_id|\tint |\tID ученика\n",
    "sale_time|\ttimestamp\t|Время покупки\n",
    "money|\tint\t|Цена, по которой приобрели данный курс\n",
    "subject|\ttext |\tДисциплина, на которую приобрели полный доступ\n",
    "\n",
    "Необходимо <ins>в одном запросе</ins> выгрузить следующую информацию о группах пользователей:\n",
    "\n",
    "* ARPU \n",
    "* ARPAU \n",
    "* CR в покупку \n",
    "* СR активного пользователя в покупку \n",
    "* CR пользователя из активности по математике (subject = ’math’) в покупку курса по математике\n",
    "\n",
    "ARPU считается относительно всех пользователей, попавших в группы.\n",
    "\n",
    "**Активным** считается пользователь, за все время решивший **больше** 10 задач правильно в любых дисциплинах.\n",
    "\n",
    "**Активным** по математике считается пользователь, за все время решивший **2 или больше задач** правильно по математике.\n",
    "\n",
    "## Задание 3. Python\n",
    "### 3.1 Задача\n",
    "\n",
    "1. Реализуйте функцию, которая будет автоматически подгружать информацию из дополнительного файла `groups_add.csv` (заголовки могут отличаться) и на основании дополнительных параметров пересчитывать метрики.\n",
    "2. Реализуйте функцию, которая будет строить графики по получаемым метрикам.\n",
    "\n",
    "-------------------------------\n",
    "\n",
    "Загрузим необходимые библиотеки:"
   ]
  },
  {
   "cell_type": "code",
   "execution_count": 1,
   "id": "1e6a0494",
   "metadata": {},
   "outputs": [],
   "source": [
    "import pandas as pd\n",
    "import numpy as np\n",
    "\n",
    "import requests\n",
    "from urllib.parse import urlencode\n",
    "\n",
    "from tqdm.auto import tqdm\n",
    "from scipy.stats import norm \n",
    "\n",
    "import seaborn as sns\n",
    "import matplotlib.pyplot as plt\n",
    "\n",
    "import re"
   ]
  },
  {
   "cell_type": "markdown",
   "id": "1d258118",
   "metadata": {},
   "source": [
    "Далее, загрузим датасеты:"
   ]
  },
  {
   "cell_type": "code",
   "execution_count": 2,
   "id": "f8fedd49",
   "metadata": {},
   "outputs": [],
   "source": [
    "# получаем прямую ссылку на файлы\n",
    "base_url = 'https://cloud-api.yandex.net/v1/disk/public/resources/download?'\n",
    "\n",
    "\n",
    "# ссылки на данные с указанием разделителя csv-файла\n",
    "links_dic = {\n",
    "    'groups':       ['https://disk.yandex.ru/d/58Us0DWOzuWAjg', ';'],\n",
    "    'groups_add':   ['https://disk.yandex.ru/d/3aARY-P9pfaksg', ','],\n",
    "    'active_studs': ['https://disk.yandex.ru/d/prbgU-rZpiXVYg', ','],\n",
    "    'checks':       ['https://disk.yandex.ru/d/84hTmELphW2sqQ', ';']\n",
    "            }\n",
    "\n",
    "# скачиваем файлы\n",
    "for csv_filename, csv_link in links_dic.items():\n",
    "    final_url               = base_url + urlencode(dict(public_key=csv_link[0]))\n",
    "    response                = requests.get(final_url)\n",
    "    download_url            = response.json()['href']\n",
    "    globals()[csv_filename] = pd.read_csv(download_url, sep=csv_link[1])"
   ]
  },
  {
   "cell_type": "markdown",
   "id": "ebc06570",
   "metadata": {},
   "source": [
    "Посмотрим на данные:"
   ]
  },
  {
   "cell_type": "code",
   "execution_count": 3,
   "id": "f053a947",
   "metadata": {},
   "outputs": [
    {
     "name": "stdout",
     "output_type": "stream",
     "text": [
      "     id grp\n",
      "0  1489   B\n",
      "1  1627   A\n",
      "2  1768   B\n",
      "3  1783   B\n",
      "4  1794   A \n",
      "\n",
      "<class 'pandas.core.frame.DataFrame'>\n",
      "RangeIndex: 74484 entries, 0 to 74483\n",
      "Data columns (total 2 columns):\n",
      " #   Column  Non-Null Count  Dtype \n",
      "---  ------  --------------  ----- \n",
      " 0   id      74484 non-null  int64 \n",
      " 1   grp     74484 non-null  object\n",
      "dtypes: int64(1), object(1)\n",
      "memory usage: 1.1+ MB\n",
      "None \n",
      "\n",
      "Уникальных ID в датасете: 74484\n"
     ]
    }
   ],
   "source": [
    "print(groups.head(),                              '\\n')\n",
    "print(groups.info(),                              '\\n')\n",
    "print('Уникальных ID в датасете:', groups.id.nunique())"
   ]
  },
  {
   "cell_type": "code",
   "execution_count": 4,
   "id": "713322d5",
   "metadata": {},
   "outputs": [
    {
     "name": "stdout",
     "output_type": "stream",
     "text": [
      "        id grp\n",
      "0  5694584   B\n",
      "1  5694830   B\n",
      "2  5695057   B\n",
      "3  5698872   B\n",
      "4  5699067   B \n",
      "\n",
      "<class 'pandas.core.frame.DataFrame'>\n",
      "RangeIndex: 92 entries, 0 to 91\n",
      "Data columns (total 2 columns):\n",
      " #   Column  Non-Null Count  Dtype \n",
      "---  ------  --------------  ----- \n",
      " 0   id      92 non-null     int64 \n",
      " 1   grp     92 non-null     object\n",
      "dtypes: int64(1), object(1)\n",
      "memory usage: 1.6+ KB\n",
      "None \n",
      "\n",
      "Уникальных ID в датасете: 92\n"
     ]
    }
   ],
   "source": [
    "print(groups_add.head(),                              '\\n')\n",
    "print(groups_add.info(),                              '\\n')\n",
    "print('Уникальных ID в датасете:', groups_add.id.nunique())"
   ]
  },
  {
   "cell_type": "code",
   "execution_count": 5,
   "id": "7e606776",
   "metadata": {},
   "outputs": [
    {
     "name": "stdout",
     "output_type": "stream",
     "text": [
      "   student_id\n",
      "0      581585\n",
      "1     5723133\n",
      "2     3276743\n",
      "3     4238589\n",
      "4     4475369 \n",
      "\n",
      "<class 'pandas.core.frame.DataFrame'>\n",
      "RangeIndex: 8341 entries, 0 to 8340\n",
      "Data columns (total 1 columns):\n",
      " #   Column      Non-Null Count  Dtype\n",
      "---  ------      --------------  -----\n",
      " 0   student_id  8341 non-null   int64\n",
      "dtypes: int64(1)\n",
      "memory usage: 65.3 KB\n",
      "None \n",
      "\n",
      "Уникальных ID в датасете: 8341\n"
     ]
    }
   ],
   "source": [
    "print(active_studs.head(),                                      '\\n')\n",
    "print(active_studs.info(),                                      '\\n')\n",
    "print('Уникальных ID в датасете:', active_studs.student_id.nunique())"
   ]
  },
  {
   "cell_type": "code",
   "execution_count": 6,
   "id": "3804b711",
   "metadata": {},
   "outputs": [
    {
     "name": "stdout",
     "output_type": "stream",
     "text": [
      "   student_id    rev\n",
      "0        1627  990.0\n",
      "1        3185  690.0\n",
      "2       25973  690.0\n",
      "3       26280  690.0\n",
      "4      100300  990.0 \n",
      "\n",
      "<class 'pandas.core.frame.DataFrame'>\n",
      "RangeIndex: 541 entries, 0 to 540\n",
      "Data columns (total 2 columns):\n",
      " #   Column      Non-Null Count  Dtype  \n",
      "---  ------      --------------  -----  \n",
      " 0   student_id  541 non-null    int64  \n",
      " 1   rev         541 non-null    float64\n",
      "dtypes: float64(1), int64(1)\n",
      "memory usage: 8.6 KB\n",
      "None \n",
      "\n",
      "Уникальных ID в датасете: 541\n"
     ]
    }
   ],
   "source": [
    "print(checks.head(),                                      '\\n')\n",
    "print(checks.info(),                                      '\\n')\n",
    "print('Уникальных ID в датасете:', checks.student_id.nunique())"
   ]
  },
  {
   "cell_type": "markdown",
   "id": "383cae60",
   "metadata": {},
   "source": [
    "----------------\n",
    "Проверим, учтены ли данные из `groups_add` в `active_studs` и `checks`:"
   ]
  },
  {
   "cell_type": "code",
   "execution_count": 7,
   "id": "28550250",
   "metadata": {},
   "outputs": [
    {
     "name": "stdout",
     "output_type": "stream",
     "text": [
      "Количество учтенных ID в active_studs: 13 \n",
      "Количество учтенных ID в checks: 1\n"
     ]
    }
   ],
   "source": [
    "print('Количество учтенных ID в active_studs:', groups_add.query('id in @active_studs.student_id').shape[0], \n",
    "      '\\nКоличество учтенных ID в checks:',     groups_add.query('id in @checks.student_id').shape[0])"
   ]
  },
  {
   "cell_type": "markdown",
   "id": "c8e2046d",
   "metadata": {},
   "source": [
    "Соединим датафрейм `groups` c датафреймом `groups_add`, т.к. второй является дополнением первого:"
   ]
  },
  {
   "cell_type": "code",
   "execution_count": 8,
   "id": "127c0655",
   "metadata": {},
   "outputs": [
    {
     "name": "stdout",
     "output_type": "stream",
     "text": [
      "Количество строк было: 74576 \n",
      "Количество строк после соединения: 74576 \n",
      "Все верно\n"
     ]
    }
   ],
   "source": [
    "groups_total = pd.concat([groups, groups_add])\n",
    "print('Количество строк было:', groups_add.id.count() + groups.id.count(), \n",
    "      '\\nКоличество строк после соединения:', pd.concat([groups, groups_add]).id.count(),\n",
    "      '\\nВсе верно' if groups_add.id.count() + groups.id.count() == groups_total.id.count()\n",
    "                    else '\\nНеверное количество')"
   ]
  },
  {
   "cell_type": "code",
   "execution_count": 9,
   "id": "d8de6de0",
   "metadata": {},
   "outputs": [
    {
     "name": "stdout",
     "output_type": "stream",
     "text": [
      "Распределение всех пользователей по группам: \n",
      "Группа A: 14693 \n",
      "Группа B: 59883 \n",
      "Всего:    74576\n"
     ]
    }
   ],
   "source": [
    "print('Распределение всех пользователей по группам: \\nГруппа A:', \n",
    "      groups_total.grp.value_counts()[1], '\\nГруппа B:',\n",
    "      groups_total.grp.value_counts()[0], '\\nВсего:   ',\n",
    "      groups_total.grp.value_counts()[1] +\n",
    "      groups_total.grp.value_counts()[0])"
   ]
  },
  {
   "cell_type": "code",
   "execution_count": 10,
   "id": "711c0f3f",
   "metadata": {},
   "outputs": [
    {
     "name": "stdout",
     "output_type": "stream",
     "text": [
      "Количество пользователей из списка активных, но не вошедших в общий список: 0 \n",
      "Количество оплативших пользователей, отсутствующих в общем списке: 0 \n",
      "Количество оплативших пользователей, отсутствующих в списке активных в дни проведения теста: 149\n"
     ]
    }
   ],
   "source": [
    "paid_not_active = checks.query('student_id not in @active_studs.student_id')\n",
    "print('Количество пользователей из списка активных, но не вошедших в общий список:', \n",
    "      active_studs.query('student_id not in @groups_total.id').shape[0],\n",
    "      '\\nКоличество оплативших пользователей, отсутствующих в общем списке:',\n",
    "      checks.query('student_id not in @groups_total.id').shape[0],\n",
    "      '\\nКоличество оплативших пользователей, отсутствующих в списке активных в дни проведения теста:',\n",
    "      paid_not_active.shape[0])"
   ]
  },
  {
   "cell_type": "markdown",
   "id": "7765551d",
   "metadata": {},
   "source": [
    "-------------\n",
    "Получается, что в период проведения экспериментов были оплаты и от тех студентов, которые не посещали платформу. Возможно, это автоматические оплаты."
   ]
  },
  {
   "cell_type": "code",
   "execution_count": 11,
   "id": "46fc6c1e",
   "metadata": {},
   "outputs": [
    {
     "name": "stdout",
     "output_type": "stream",
     "text": [
      "Распредление checks по группам: \n",
      "Группа A: 434 \n",
      "Группа B: 107 \n",
      "Всего:    541\n"
     ]
    }
   ],
   "source": [
    "print('Распредление checks по группам: \\nГруппа A:', \n",
    "      groups_total.query('id in @checks.student_id').grp.value_counts()[0], '\\nГруппа B:',\n",
    "      groups_total.query('id in @checks.student_id').grp.value_counts()[1], '\\nВсего:   ', \n",
    "      groups_total.query('id in @checks.student_id').grp.value_counts()[0] + \n",
    "      groups_total.query('id in @checks.student_id').grp.value_counts()[1])"
   ]
  },
  {
   "cell_type": "code",
   "execution_count": 12,
   "id": "446ae97e",
   "metadata": {},
   "outputs": [
    {
     "name": "stdout",
     "output_type": "stream",
     "text": [
      "Оплатили, но не в списке активных, количество по группам:\n",
      "Группа A: 29 \n",
      "Группа B: 120 \n",
      "Всего:    149\n"
     ]
    }
   ],
   "source": [
    "print('Оплатили, но не в списке активных, количество по группам:\\nГруппа A:', \n",
    "      groups_total.query('id in @paid_not_active.student_id').grp.value_counts()[1], '\\nГруппа B:',\n",
    "      groups_total.query('id in @paid_not_active.student_id').grp.value_counts()[0], '\\nВсего:   ',\n",
    "      groups_total.query('id in @paid_not_active.student_id').grp.value_counts()[1] + \n",
    "      groups_total.query('id in @paid_not_active.student_id').grp.value_counts()[0])"
   ]
  },
  {
   "cell_type": "code",
   "execution_count": 13,
   "id": "e8de6455",
   "metadata": {},
   "outputs": [
    {
     "name": "stdout",
     "output_type": "stream",
     "text": [
      "Распределение active_studs по группам: \n",
      "Группа A: 1538 \n",
      "Группа B: 6803 \n",
      "Всего:    8341\n"
     ]
    }
   ],
   "source": [
    "print('Распределение active_studs по группам: \\nГруппа A:', \n",
    "      groups_total.query('id in @active_studs.student_id').grp.value_counts()[1], '\\nГруппа B:',\n",
    "      groups_total.query('id in @active_studs.student_id').grp.value_counts()[0], '\\nВсего:   ',\n",
    "      groups_total.query('id in @active_studs.student_id').grp.value_counts()[1] + \n",
    "      groups_total.query('id in @active_studs.student_id').grp.value_counts()[0])"
   ]
  },
  {
   "cell_type": "code",
   "execution_count": 14,
   "id": "de185382",
   "metadata": {},
   "outputs": [
    {
     "name": "stdout",
     "output_type": "stream",
     "text": [
      "Активные оплатившие пользователи, количество по группам: \n",
      "Группа A: 78 \n",
      "Группа B: 314 \n",
      "Всего:    392\n"
     ]
    }
   ],
   "source": [
    "print('Активные оплатившие пользователи, количество по группам: \\nГруппа A:', \n",
    "      groups_total.query('id in @active_studs.student_id & id in @checks.student_id').grp.value_counts()[1], '\\nГруппа B:',\n",
    "      groups_total.query('id in @active_studs.student_id & id in @checks.student_id').grp.value_counts()[0], '\\nВсего:   ',\n",
    "      groups_total.query('id in @active_studs.student_id & id in @checks.student_id').grp.value_counts()[1] +\n",
    "      groups_total.query('id in @active_studs.student_id & id in @checks.student_id').grp.value_counts()[0])"
   ]
  },
  {
   "cell_type": "code",
   "execution_count": 15,
   "id": "6a8b41a4",
   "metadata": {},
   "outputs": [
    {
     "name": "stdout",
     "output_type": "stream",
     "text": [
      "Активные, но не оплатившие пользователи, количество по группам: \n",
      "Группа A: 1460 \n",
      "Группа B: 6489 \n",
      "Всего:    7949\n"
     ]
    }
   ],
   "source": [
    "print('Активные, но не оплатившие пользователи, количество по группам: \\nГруппа A:', \n",
    "      groups_total.query('id in @active_studs.student_id & id not in @checks.student_id').grp.value_counts()[1], '\\nГруппа B:',\n",
    "      groups_total.query('id in @active_studs.student_id & id not in @checks.student_id').grp.value_counts()[0], '\\nВсего:   ',\n",
    "      groups_total.query('id in @active_studs.student_id & id not in @checks.student_id').grp.value_counts()[1] +\n",
    "      groups_total.query('id in @active_studs.student_id & id not in @checks.student_id').grp.value_counts()[0])"
   ]
  },
  {
   "cell_type": "markdown",
   "id": "fc7b39ee",
   "metadata": {},
   "source": [
    "Подвем небольшой итог изобразив проанализированную информацию в виде диаграммы Эйлера-Венна:\n",
    "\n",
    "![](https://raw.githubusercontent.com/IgorAgarkov/karpov_courses/c4fe3796970da1728e40b27034594bdb24d21c1f/final_project/img/oval_diagram.png)\n",
    "\n",
    "Итак, у нас есть активные пользователи, те, что заходили на сайт в дни проведения теста и есть пользователи, которые совершили платежи. Активные с оплатившими пересекаются только частично, отсюда возникает вопрос: кто те пользователи, которые оплатили, но не попали в список активных? Из постановки задачи это не ясно, возможно это автоматические платежи, а возможно сбой системы и все оплатившие являются активными. Так как у нас нет возможности прояснить это, уберём из выборки оплативших не активных. Т.е. оплативших будем брать только тех, одновременно является и оплатившим, и активным (пересечение `active_studs` и `checks` - 392 человека).\n",
    "\n",
    "Пользователи распределены по группам неравномерно. Группа B значительно больше, чем группа А.\n",
    "\n",
    "----------------------------------\n",
    "\n",
    "Объединим список активных пользователей со списком оплативших, отбросив из последних тех, кого нет в списке активных:"
   ]
  },
  {
   "cell_type": "code",
   "execution_count": 16,
   "id": "8660d557",
   "metadata": {},
   "outputs": [
    {
     "data": {
      "text/html": [
       "<div>\n",
       "<style scoped>\n",
       "    .dataframe tbody tr th:only-of-type {\n",
       "        vertical-align: middle;\n",
       "    }\n",
       "\n",
       "    .dataframe tbody tr th {\n",
       "        vertical-align: top;\n",
       "    }\n",
       "\n",
       "    .dataframe thead th {\n",
       "        text-align: right;\n",
       "    }\n",
       "</style>\n",
       "<table border=\"1\" class=\"dataframe\">\n",
       "  <thead>\n",
       "    <tr style=\"text-align: right;\">\n",
       "      <th></th>\n",
       "      <th>id</th>\n",
       "      <th>rev</th>\n",
       "    </tr>\n",
       "  </thead>\n",
       "  <tbody>\n",
       "    <tr>\n",
       "      <th>62</th>\n",
       "      <td>1184303</td>\n",
       "      <td>1530.0000</td>\n",
       "    </tr>\n",
       "    <tr>\n",
       "      <th>67</th>\n",
       "      <td>3354191</td>\n",
       "      <td>1900.0001</td>\n",
       "    </tr>\n",
       "    <tr>\n",
       "      <th>77</th>\n",
       "      <td>3278734</td>\n",
       "      <td>1900.0000</td>\n",
       "    </tr>\n",
       "    <tr>\n",
       "      <th>99</th>\n",
       "      <td>720651</td>\n",
       "      <td>1980.0000</td>\n",
       "    </tr>\n",
       "    <tr>\n",
       "      <th>193</th>\n",
       "      <td>1232221</td>\n",
       "      <td>1900.0000</td>\n",
       "    </tr>\n",
       "  </tbody>\n",
       "</table>\n",
       "</div>"
      ],
      "text/plain": [
       "          id        rev\n",
       "62   1184303  1530.0000\n",
       "67   3354191  1900.0001\n",
       "77   3278734  1900.0000\n",
       "99    720651  1980.0000\n",
       "193  1232221  1900.0000"
      ]
     },
     "execution_count": 16,
     "metadata": {},
     "output_type": "execute_result"
    }
   ],
   "source": [
    "active_checks = (\n",
    "                active_studs\n",
    "                .merge(checks, how='left', on='student_id')\n",
    "                .rename(columns={'student_id': 'id'})\n",
    "                )\n",
    "active_checks.query('rev.notna()').head()"
   ]
  },
  {
   "cell_type": "markdown",
   "id": "c246c5c4",
   "metadata": {},
   "source": [
    "Объединим активных оплативших из предыдущего шага с `groups_total`, оставив только активных:"
   ]
  },
  {
   "cell_type": "code",
   "execution_count": 17,
   "id": "5d88b1f4",
   "metadata": {},
   "outputs": [],
   "source": [
    "active_total = groups_total.merge(active_checks, how='right', on='id')"
   ]
  },
  {
   "cell_type": "markdown",
   "id": "af00a873",
   "metadata": {},
   "source": [
    "Добавим колонку со статусом оплаты (0 - не оплачен, 1 - оплачен):"
   ]
  },
  {
   "cell_type": "code",
   "execution_count": 18,
   "id": "5cfe4bb5",
   "metadata": {},
   "outputs": [
    {
     "data": {
      "text/html": [
       "<div>\n",
       "<style scoped>\n",
       "    .dataframe tbody tr th:only-of-type {\n",
       "        vertical-align: middle;\n",
       "    }\n",
       "\n",
       "    .dataframe tbody tr th {\n",
       "        vertical-align: top;\n",
       "    }\n",
       "\n",
       "    .dataframe thead th {\n",
       "        text-align: right;\n",
       "    }\n",
       "</style>\n",
       "<table border=\"1\" class=\"dataframe\">\n",
       "  <thead>\n",
       "    <tr style=\"text-align: right;\">\n",
       "      <th></th>\n",
       "      <th>id</th>\n",
       "      <th>grp</th>\n",
       "      <th>rev</th>\n",
       "      <th>payment</th>\n",
       "    </tr>\n",
       "  </thead>\n",
       "  <tbody>\n",
       "    <tr>\n",
       "      <th>0</th>\n",
       "      <td>581585</td>\n",
       "      <td>A</td>\n",
       "      <td>NaN</td>\n",
       "      <td>0</td>\n",
       "    </tr>\n",
       "    <tr>\n",
       "      <th>1</th>\n",
       "      <td>5723133</td>\n",
       "      <td>A</td>\n",
       "      <td>NaN</td>\n",
       "      <td>0</td>\n",
       "    </tr>\n",
       "    <tr>\n",
       "      <th>2</th>\n",
       "      <td>3276743</td>\n",
       "      <td>B</td>\n",
       "      <td>NaN</td>\n",
       "      <td>0</td>\n",
       "    </tr>\n",
       "    <tr>\n",
       "      <th>3</th>\n",
       "      <td>4238589</td>\n",
       "      <td>A</td>\n",
       "      <td>NaN</td>\n",
       "      <td>0</td>\n",
       "    </tr>\n",
       "    <tr>\n",
       "      <th>4</th>\n",
       "      <td>4475369</td>\n",
       "      <td>B</td>\n",
       "      <td>NaN</td>\n",
       "      <td>0</td>\n",
       "    </tr>\n",
       "  </tbody>\n",
       "</table>\n",
       "</div>"
      ],
      "text/plain": [
       "        id grp  rev  payment\n",
       "0   581585   A  NaN        0\n",
       "1  5723133   A  NaN        0\n",
       "2  3276743   B  NaN        0\n",
       "3  4238589   A  NaN        0\n",
       "4  4475369   B  NaN        0"
      ]
     },
     "execution_count": 18,
     "metadata": {},
     "output_type": "execute_result"
    }
   ],
   "source": [
    "active_total['payment'] = active_total.rev.apply(lambda x: 0 if np.isnan(x) else 1)\n",
    "active_total.query('rev.isna()').head()"
   ]
  },
  {
   "cell_type": "markdown",
   "id": "e87bf11b",
   "metadata": {},
   "source": [
    "Заменим NaN на нули:"
   ]
  },
  {
   "cell_type": "code",
   "execution_count": 19,
   "id": "44ff9ecb",
   "metadata": {},
   "outputs": [],
   "source": [
    "active_total['rev'] = active_total.rev.fillna(0)"
   ]
  },
  {
   "cell_type": "markdown",
   "id": "e79b0094",
   "metadata": {},
   "source": [
    "Сформируем датафрейм со всей собранной информацией.\n",
    "Активные + оплатившие:"
   ]
  },
  {
   "cell_type": "code",
   "execution_count": 20,
   "id": "4ec39cd3",
   "metadata": {},
   "outputs": [
    {
     "data": {
      "text/html": [
       "<div>\n",
       "<style scoped>\n",
       "    .dataframe tbody tr th:only-of-type {\n",
       "        vertical-align: middle;\n",
       "    }\n",
       "\n",
       "    .dataframe tbody tr th {\n",
       "        vertical-align: top;\n",
       "    }\n",
       "\n",
       "    .dataframe thead th {\n",
       "        text-align: right;\n",
       "    }\n",
       "</style>\n",
       "<table border=\"1\" class=\"dataframe\">\n",
       "  <thead>\n",
       "    <tr style=\"text-align: right;\">\n",
       "      <th></th>\n",
       "      <th>id</th>\n",
       "      <th>grp</th>\n",
       "      <th>rev</th>\n",
       "      <th>payment</th>\n",
       "    </tr>\n",
       "  </thead>\n",
       "  <tbody>\n",
       "    <tr>\n",
       "      <th>62</th>\n",
       "      <td>1184303</td>\n",
       "      <td>A</td>\n",
       "      <td>1530.0000</td>\n",
       "      <td>1</td>\n",
       "    </tr>\n",
       "    <tr>\n",
       "      <th>67</th>\n",
       "      <td>3354191</td>\n",
       "      <td>B</td>\n",
       "      <td>1900.0001</td>\n",
       "      <td>1</td>\n",
       "    </tr>\n",
       "    <tr>\n",
       "      <th>77</th>\n",
       "      <td>3278734</td>\n",
       "      <td>B</td>\n",
       "      <td>1900.0000</td>\n",
       "      <td>1</td>\n",
       "    </tr>\n",
       "    <tr>\n",
       "      <th>99</th>\n",
       "      <td>720651</td>\n",
       "      <td>A</td>\n",
       "      <td>1980.0000</td>\n",
       "      <td>1</td>\n",
       "    </tr>\n",
       "    <tr>\n",
       "      <th>193</th>\n",
       "      <td>1232221</td>\n",
       "      <td>B</td>\n",
       "      <td>1900.0000</td>\n",
       "      <td>1</td>\n",
       "    </tr>\n",
       "  </tbody>\n",
       "</table>\n",
       "</div>"
      ],
      "text/plain": [
       "          id grp        rev  payment\n",
       "62   1184303   A  1530.0000        1\n",
       "67   3354191   B  1900.0001        1\n",
       "77   3278734   B  1900.0000        1\n",
       "99    720651   A  1980.0000        1\n",
       "193  1232221   B  1900.0000        1"
      ]
     },
     "execution_count": 20,
     "metadata": {},
     "output_type": "execute_result"
    }
   ],
   "source": [
    "active_total_paid = active_total.query('rev > 0')\n",
    "active_total_paid.head()"
   ]
  },
  {
   "cell_type": "markdown",
   "id": "2372f91b",
   "metadata": {},
   "source": [
    "Группа А:"
   ]
  },
  {
   "cell_type": "code",
   "execution_count": 21,
   "id": "ef1ff5e8",
   "metadata": {},
   "outputs": [
    {
     "data": {
      "text/html": [
       "<div>\n",
       "<style scoped>\n",
       "    .dataframe tbody tr th:only-of-type {\n",
       "        vertical-align: middle;\n",
       "    }\n",
       "\n",
       "    .dataframe tbody tr th {\n",
       "        vertical-align: top;\n",
       "    }\n",
       "\n",
       "    .dataframe thead th {\n",
       "        text-align: right;\n",
       "    }\n",
       "</style>\n",
       "<table border=\"1\" class=\"dataframe\">\n",
       "  <thead>\n",
       "    <tr style=\"text-align: right;\">\n",
       "      <th></th>\n",
       "      <th>id</th>\n",
       "      <th>grp</th>\n",
       "      <th>rev</th>\n",
       "      <th>payment</th>\n",
       "    </tr>\n",
       "  </thead>\n",
       "  <tbody>\n",
       "    <tr>\n",
       "      <th>0</th>\n",
       "      <td>581585</td>\n",
       "      <td>A</td>\n",
       "      <td>0.0</td>\n",
       "      <td>0</td>\n",
       "    </tr>\n",
       "    <tr>\n",
       "      <th>1</th>\n",
       "      <td>5723133</td>\n",
       "      <td>A</td>\n",
       "      <td>0.0</td>\n",
       "      <td>0</td>\n",
       "    </tr>\n",
       "    <tr>\n",
       "      <th>3</th>\n",
       "      <td>4238589</td>\n",
       "      <td>A</td>\n",
       "      <td>0.0</td>\n",
       "      <td>0</td>\n",
       "    </tr>\n",
       "    <tr>\n",
       "      <th>7</th>\n",
       "      <td>1394612</td>\n",
       "      <td>A</td>\n",
       "      <td>0.0</td>\n",
       "      <td>0</td>\n",
       "    </tr>\n",
       "    <tr>\n",
       "      <th>21</th>\n",
       "      <td>5194768</td>\n",
       "      <td>A</td>\n",
       "      <td>0.0</td>\n",
       "      <td>0</td>\n",
       "    </tr>\n",
       "  </tbody>\n",
       "</table>\n",
       "</div>"
      ],
      "text/plain": [
       "         id grp  rev  payment\n",
       "0    581585   A  0.0        0\n",
       "1   5723133   A  0.0        0\n",
       "3   4238589   A  0.0        0\n",
       "7   1394612   A  0.0        0\n",
       "21  5194768   A  0.0        0"
      ]
     },
     "execution_count": 21,
     "metadata": {},
     "output_type": "execute_result"
    }
   ],
   "source": [
    "a_group = active_total.query('grp == \"A\"')\n",
    "a_group.head()"
   ]
  },
  {
   "cell_type": "markdown",
   "id": "8d6bb586",
   "metadata": {},
   "source": [
    "Активные оплатившие пользователи, группа А:"
   ]
  },
  {
   "cell_type": "code",
   "execution_count": 22,
   "id": "a95d13b7",
   "metadata": {},
   "outputs": [
    {
     "data": {
      "text/html": [
       "<div>\n",
       "<style scoped>\n",
       "    .dataframe tbody tr th:only-of-type {\n",
       "        vertical-align: middle;\n",
       "    }\n",
       "\n",
       "    .dataframe tbody tr th {\n",
       "        vertical-align: top;\n",
       "    }\n",
       "\n",
       "    .dataframe thead th {\n",
       "        text-align: right;\n",
       "    }\n",
       "</style>\n",
       "<table border=\"1\" class=\"dataframe\">\n",
       "  <thead>\n",
       "    <tr style=\"text-align: right;\">\n",
       "      <th></th>\n",
       "      <th>id</th>\n",
       "      <th>grp</th>\n",
       "      <th>rev</th>\n",
       "      <th>payment</th>\n",
       "    </tr>\n",
       "  </thead>\n",
       "  <tbody>\n",
       "    <tr>\n",
       "      <th>62</th>\n",
       "      <td>1184303</td>\n",
       "      <td>A</td>\n",
       "      <td>1530.0</td>\n",
       "      <td>1</td>\n",
       "    </tr>\n",
       "    <tr>\n",
       "      <th>99</th>\n",
       "      <td>720651</td>\n",
       "      <td>A</td>\n",
       "      <td>1980.0</td>\n",
       "      <td>1</td>\n",
       "    </tr>\n",
       "    <tr>\n",
       "      <th>306</th>\n",
       "      <td>4337103</td>\n",
       "      <td>A</td>\n",
       "      <td>580.0</td>\n",
       "      <td>1</td>\n",
       "    </tr>\n",
       "    <tr>\n",
       "      <th>392</th>\n",
       "      <td>332387</td>\n",
       "      <td>A</td>\n",
       "      <td>2910.0</td>\n",
       "      <td>1</td>\n",
       "    </tr>\n",
       "    <tr>\n",
       "      <th>439</th>\n",
       "      <td>1659434</td>\n",
       "      <td>A</td>\n",
       "      <td>690.0</td>\n",
       "      <td>1</td>\n",
       "    </tr>\n",
       "  </tbody>\n",
       "</table>\n",
       "</div>"
      ],
      "text/plain": [
       "          id grp     rev  payment\n",
       "62   1184303   A  1530.0        1\n",
       "99    720651   A  1980.0        1\n",
       "306  4337103   A   580.0        1\n",
       "392   332387   A  2910.0        1\n",
       "439  1659434   A   690.0        1"
      ]
     },
     "execution_count": 22,
     "metadata": {},
     "output_type": "execute_result"
    }
   ],
   "source": [
    "a_group_paid = a_group.query('rev > 0')\n",
    "a_group_paid.head()"
   ]
  },
  {
   "cell_type": "markdown",
   "id": "a28262af",
   "metadata": {},
   "source": [
    "Активные пользователи, группа B:"
   ]
  },
  {
   "cell_type": "code",
   "execution_count": 23,
   "id": "d1252d03",
   "metadata": {},
   "outputs": [
    {
     "data": {
      "text/html": [
       "<div>\n",
       "<style scoped>\n",
       "    .dataframe tbody tr th:only-of-type {\n",
       "        vertical-align: middle;\n",
       "    }\n",
       "\n",
       "    .dataframe tbody tr th {\n",
       "        vertical-align: top;\n",
       "    }\n",
       "\n",
       "    .dataframe thead th {\n",
       "        text-align: right;\n",
       "    }\n",
       "</style>\n",
       "<table border=\"1\" class=\"dataframe\">\n",
       "  <thead>\n",
       "    <tr style=\"text-align: right;\">\n",
       "      <th></th>\n",
       "      <th>id</th>\n",
       "      <th>grp</th>\n",
       "      <th>rev</th>\n",
       "      <th>payment</th>\n",
       "    </tr>\n",
       "  </thead>\n",
       "  <tbody>\n",
       "    <tr>\n",
       "      <th>2</th>\n",
       "      <td>3276743</td>\n",
       "      <td>B</td>\n",
       "      <td>0.0</td>\n",
       "      <td>0</td>\n",
       "    </tr>\n",
       "    <tr>\n",
       "      <th>4</th>\n",
       "      <td>4475369</td>\n",
       "      <td>B</td>\n",
       "      <td>0.0</td>\n",
       "      <td>0</td>\n",
       "    </tr>\n",
       "    <tr>\n",
       "      <th>5</th>\n",
       "      <td>5481015</td>\n",
       "      <td>B</td>\n",
       "      <td>0.0</td>\n",
       "      <td>0</td>\n",
       "    </tr>\n",
       "    <tr>\n",
       "      <th>6</th>\n",
       "      <td>1353433</td>\n",
       "      <td>B</td>\n",
       "      <td>0.0</td>\n",
       "      <td>0</td>\n",
       "    </tr>\n",
       "    <tr>\n",
       "      <th>8</th>\n",
       "      <td>1170611</td>\n",
       "      <td>B</td>\n",
       "      <td>0.0</td>\n",
       "      <td>0</td>\n",
       "    </tr>\n",
       "  </tbody>\n",
       "</table>\n",
       "</div>"
      ],
      "text/plain": [
       "        id grp  rev  payment\n",
       "2  3276743   B  0.0        0\n",
       "4  4475369   B  0.0        0\n",
       "5  5481015   B  0.0        0\n",
       "6  1353433   B  0.0        0\n",
       "8  1170611   B  0.0        0"
      ]
     },
     "execution_count": 23,
     "metadata": {},
     "output_type": "execute_result"
    }
   ],
   "source": [
    "b_group = active_total.query('grp == \"B\"')\n",
    "b_group.head()"
   ]
  },
  {
   "cell_type": "markdown",
   "id": "8ed6bd9f",
   "metadata": {},
   "source": [
    "Активные оплатившие пользователи, группа B:"
   ]
  },
  {
   "cell_type": "code",
   "execution_count": 24,
   "id": "d87349c4",
   "metadata": {},
   "outputs": [
    {
     "data": {
      "text/html": [
       "<div>\n",
       "<style scoped>\n",
       "    .dataframe tbody tr th:only-of-type {\n",
       "        vertical-align: middle;\n",
       "    }\n",
       "\n",
       "    .dataframe tbody tr th {\n",
       "        vertical-align: top;\n",
       "    }\n",
       "\n",
       "    .dataframe thead th {\n",
       "        text-align: right;\n",
       "    }\n",
       "</style>\n",
       "<table border=\"1\" class=\"dataframe\">\n",
       "  <thead>\n",
       "    <tr style=\"text-align: right;\">\n",
       "      <th></th>\n",
       "      <th>id</th>\n",
       "      <th>grp</th>\n",
       "      <th>rev</th>\n",
       "      <th>payment</th>\n",
       "    </tr>\n",
       "  </thead>\n",
       "  <tbody>\n",
       "    <tr>\n",
       "      <th>67</th>\n",
       "      <td>3354191</td>\n",
       "      <td>B</td>\n",
       "      <td>1900.0001</td>\n",
       "      <td>1</td>\n",
       "    </tr>\n",
       "    <tr>\n",
       "      <th>77</th>\n",
       "      <td>3278734</td>\n",
       "      <td>B</td>\n",
       "      <td>1900.0000</td>\n",
       "      <td>1</td>\n",
       "    </tr>\n",
       "    <tr>\n",
       "      <th>193</th>\n",
       "      <td>1232221</td>\n",
       "      <td>B</td>\n",
       "      <td>1900.0000</td>\n",
       "      <td>1</td>\n",
       "    </tr>\n",
       "    <tr>\n",
       "      <th>195</th>\n",
       "      <td>3821501</td>\n",
       "      <td>B</td>\n",
       "      <td>1900.0000</td>\n",
       "      <td>1</td>\n",
       "    </tr>\n",
       "    <tr>\n",
       "      <th>211</th>\n",
       "      <td>1036096</td>\n",
       "      <td>B</td>\n",
       "      <td>1900.0000</td>\n",
       "      <td>1</td>\n",
       "    </tr>\n",
       "  </tbody>\n",
       "</table>\n",
       "</div>"
      ],
      "text/plain": [
       "          id grp        rev  payment\n",
       "67   3354191   B  1900.0001        1\n",
       "77   3278734   B  1900.0000        1\n",
       "193  1232221   B  1900.0000        1\n",
       "195  3821501   B  1900.0000        1\n",
       "211  1036096   B  1900.0000        1"
      ]
     },
     "execution_count": 24,
     "metadata": {},
     "output_type": "execute_result"
    }
   ],
   "source": [
    "b_group_paid = b_group.query('rev > 0')\n",
    "b_group_paid.head()"
   ]
  },
  {
   "cell_type": "markdown",
   "id": "eb69cdce",
   "metadata": {},
   "source": [
    "--------------\n",
    "Распределение группы А (все пользователи):"
   ]
  },
  {
   "cell_type": "code",
   "execution_count": 25,
   "id": "b5a7bbb2",
   "metadata": {},
   "outputs": [
    {
     "data": {
      "image/png": "[encoded data removed]",
      "text/plain": [
       "<Figure size 432x288 with 1 Axes>"
      ]
     },
     "metadata": {
      "needs_background": "light"
     },
     "output_type": "display_data"
    }
   ],
   "source": [
    "a_group.rev.hist(bins=50)\n",
    "sns.despine()"
   ]
  },
  {
   "cell_type": "markdown",
   "id": "f2663752",
   "metadata": {},
   "source": [
    "Распределение группы В (все пользователи):"
   ]
  },
  {
   "cell_type": "code",
   "execution_count": 26,
   "id": "6e8b5528",
   "metadata": {},
   "outputs": [
    {
     "data": {
      "image/png": "[encoded data removed]",
      "text/plain": [
       "<Figure size 432x288 with 1 Axes>"
      ]
     },
     "metadata": {
      "needs_background": "light"
     },
     "output_type": "display_data"
    }
   ],
   "source": [
    "b_group.rev.hist(bins=50)\n",
    "sns.despine()"
   ]
  },
  {
   "cell_type": "markdown",
   "id": "74412128",
   "metadata": {},
   "source": [
    "Распределение группы А (только купившие):"
   ]
  },
  {
   "cell_type": "code",
   "execution_count": 27,
   "id": "5a574b97",
   "metadata": {},
   "outputs": [
    {
     "data": {
      "image/png": "[encoded data removed]",
      "text/plain": [
       "<Figure size 432x288 with 1 Axes>"
      ]
     },
     "metadata": {
      "needs_background": "light"
     },
     "output_type": "display_data"
    }
   ],
   "source": [
    "a_group_paid.rev.hist(bins=50)\n",
    "sns.despine()"
   ]
  },
  {
   "cell_type": "markdown",
   "id": "6b89e50b",
   "metadata": {},
   "source": [
    "Распределение группы В (только купившие):"
   ]
  },
  {
   "cell_type": "code",
   "execution_count": 28,
   "id": "bb24c115",
   "metadata": {},
   "outputs": [
    {
     "data": {
      "image/png": "[encoded data removed]",
      "text/plain": [
       "<Figure size 432x288 with 1 Axes>"
      ]
     },
     "metadata": {
      "needs_background": "light"
     },
     "output_type": "display_data"
    }
   ],
   "source": [
    "b_group_paid.rev.hist(bins=50)\n",
    "sns.despine()"
   ]
  },
  {
   "cell_type": "markdown",
   "id": "8228eba4",
   "metadata": {},
   "source": [
    "Сравним описательную статистику по всем пользователям в двух группах:"
   ]
  },
  {
   "cell_type": "code",
   "execution_count": 29,
   "id": "82a7dc1f",
   "metadata": {},
   "outputs": [
    {
     "data": {
      "text/html": [
       "<div>\n",
       "<style scoped>\n",
       "    .dataframe tbody tr th:only-of-type {\n",
       "        vertical-align: middle;\n",
       "    }\n",
       "\n",
       "    .dataframe tbody tr th {\n",
       "        vertical-align: top;\n",
       "    }\n",
       "\n",
       "    .dataframe thead th {\n",
       "        text-align: right;\n",
       "    }\n",
       "</style>\n",
       "<table border=\"1\" class=\"dataframe\">\n",
       "  <thead>\n",
       "    <tr style=\"text-align: right;\">\n",
       "      <th></th>\n",
       "      <th>Группа В</th>\n",
       "      <th>Группа А</th>\n",
       "    </tr>\n",
       "  </thead>\n",
       "  <tbody>\n",
       "    <tr>\n",
       "      <th>count</th>\n",
       "      <td>1538.000000</td>\n",
       "      <td>6803.000000</td>\n",
       "    </tr>\n",
       "    <tr>\n",
       "      <th>mean</th>\n",
       "      <td>47.347204</td>\n",
       "      <td>58.058798</td>\n",
       "    </tr>\n",
       "    <tr>\n",
       "      <th>std</th>\n",
       "      <td>290.490632</td>\n",
       "      <td>313.770201</td>\n",
       "    </tr>\n",
       "    <tr>\n",
       "      <th>min</th>\n",
       "      <td>0.000000</td>\n",
       "      <td>0.000000</td>\n",
       "    </tr>\n",
       "    <tr>\n",
       "      <th>25%</th>\n",
       "      <td>0.000000</td>\n",
       "      <td>0.000000</td>\n",
       "    </tr>\n",
       "    <tr>\n",
       "      <th>50%</th>\n",
       "      <td>0.000000</td>\n",
       "      <td>0.000000</td>\n",
       "    </tr>\n",
       "    <tr>\n",
       "      <th>75%</th>\n",
       "      <td>0.000000</td>\n",
       "      <td>0.000000</td>\n",
       "    </tr>\n",
       "    <tr>\n",
       "      <th>max</th>\n",
       "      <td>3660.000000</td>\n",
       "      <td>4650.000000</td>\n",
       "    </tr>\n",
       "  </tbody>\n",
       "</table>\n",
       "</div>"
      ],
      "text/plain": [
       "          Группа В     Группа А\n",
       "count  1538.000000  6803.000000\n",
       "mean     47.347204    58.058798\n",
       "std     290.490632   313.770201\n",
       "min       0.000000     0.000000\n",
       "25%       0.000000     0.000000\n",
       "50%       0.000000     0.000000\n",
       "75%       0.000000     0.000000\n",
       "max    3660.000000  4650.000000"
      ]
     },
     "execution_count": 29,
     "metadata": {},
     "output_type": "execute_result"
    }
   ],
   "source": [
    "a_group_descr = a_group.rev.describe().to_frame().rename(columns={'rev': 'Группа В'})\n",
    "b_group_descr = b_group.rev.describe().to_frame().rename(columns={'rev': 'Группа А'})\n",
    "pd.concat([a_group_descr, b_group_descr], axis=1)"
   ]
  },
  {
   "cell_type": "markdown",
   "id": "5ee22388",
   "metadata": {},
   "source": [
    "Сравним описательную статистику по оплатившим пользователям в двух группах:"
   ]
  },
  {
   "cell_type": "code",
   "execution_count": 30,
   "id": "cacbefbd",
   "metadata": {},
   "outputs": [
    {
     "data": {
      "text/html": [
       "<div>\n",
       "<style scoped>\n",
       "    .dataframe tbody tr th:only-of-type {\n",
       "        vertical-align: middle;\n",
       "    }\n",
       "\n",
       "    .dataframe tbody tr th {\n",
       "        vertical-align: top;\n",
       "    }\n",
       "\n",
       "    .dataframe thead th {\n",
       "        text-align: right;\n",
       "    }\n",
       "</style>\n",
       "<table border=\"1\" class=\"dataframe\">\n",
       "  <thead>\n",
       "    <tr style=\"text-align: right;\">\n",
       "      <th></th>\n",
       "      <th>Группа А</th>\n",
       "      <th>Группа В</th>\n",
       "    </tr>\n",
       "  </thead>\n",
       "  <tbody>\n",
       "    <tr>\n",
       "      <th>count</th>\n",
       "      <td>78.000000</td>\n",
       "      <td>314.000000</td>\n",
       "    </tr>\n",
       "    <tr>\n",
       "      <th>mean</th>\n",
       "      <td>933.589744</td>\n",
       "      <td>1257.878992</td>\n",
       "    </tr>\n",
       "    <tr>\n",
       "      <th>std</th>\n",
       "      <td>919.932711</td>\n",
       "      <td>790.864254</td>\n",
       "    </tr>\n",
       "    <tr>\n",
       "      <th>min</th>\n",
       "      <td>199.000000</td>\n",
       "      <td>199.000000</td>\n",
       "    </tr>\n",
       "    <tr>\n",
       "      <th>25%</th>\n",
       "      <td>290.000000</td>\n",
       "      <td>511.750000</td>\n",
       "    </tr>\n",
       "    <tr>\n",
       "      <th>50%</th>\n",
       "      <td>585.000000</td>\n",
       "      <td>1140.000000</td>\n",
       "    </tr>\n",
       "    <tr>\n",
       "      <th>75%</th>\n",
       "      <td>1114.750000</td>\n",
       "      <td>1900.000000</td>\n",
       "    </tr>\n",
       "    <tr>\n",
       "      <th>max</th>\n",
       "      <td>3660.000000</td>\n",
       "      <td>4650.000000</td>\n",
       "    </tr>\n",
       "  </tbody>\n",
       "</table>\n",
       "</div>"
      ],
      "text/plain": [
       "          Группа А     Группа В\n",
       "count    78.000000   314.000000\n",
       "mean    933.589744  1257.878992\n",
       "std     919.932711   790.864254\n",
       "min     199.000000   199.000000\n",
       "25%     290.000000   511.750000\n",
       "50%     585.000000  1140.000000\n",
       "75%    1114.750000  1900.000000\n",
       "max    3660.000000  4650.000000"
      ]
     },
     "execution_count": 30,
     "metadata": {},
     "output_type": "execute_result"
    }
   ],
   "source": [
    "a_group_descr = a_group_paid.rev.describe().to_frame().rename(columns={'rev': 'Группа А'})\n",
    "b_group_descr = b_group_paid.rev.describe().to_frame().rename(columns={'rev': 'Группа В'})\n",
    "pd.concat([a_group_descr, b_group_descr], axis=1)"
   ]
  },
  {
   "cell_type": "markdown",
   "id": "96485d40",
   "metadata": {},
   "source": [
    "Посмотрим на выборосы (все пользователи):"
   ]
  },
  {
   "cell_type": "code",
   "execution_count": 34,
   "id": "b3827da0",
   "metadata": {},
   "outputs": [
    {
     "data": {
      "image/png": "[encoded data removed]",
      "text/plain": [
       "<Figure size 432x288 with 1 Axes>"
      ]
     },
     "metadata": {
      "needs_background": "light"
     },
     "output_type": "display_data"
    }
   ],
   "source": [
    "sns.boxplot(data=active_total, y='rev', x='grp')\n",
    "sns.despine()"
   ]
  },
  {
   "cell_type": "markdown",
   "id": "20270641",
   "metadata": {},
   "source": [
    "Посмотрим на выборосы (купившие):"
   ]
  },
  {
   "cell_type": "code",
   "execution_count": 35,
   "id": "785474f2",
   "metadata": {},
   "outputs": [
    {
     "data": {
      "image/png": "[encoded data removed]",
      "text/plain": [
       "<Figure size 432x288 with 1 Axes>"
      ]
     },
     "metadata": {
      "needs_background": "light"
     },
     "output_type": "display_data"
    }
   ],
   "source": [
    "sns.boxplot(data=active_total_paid, y='rev', x='grp')\n",
    "sns.despine()"
   ]
  },
  {
   "cell_type": "markdown",
   "id": "0b5cb5d9",
   "metadata": {},
   "source": [
    "Считаю, что следует выбрать следующие метрики:\n",
    "\n",
    "* `CR` (конверсия онлайн платежей) - отношение количества оплативших клиентов к общему числу активных клиентов.\n",
    "Может отражать юзабилити новой механики оплаты. Например часть пользователей не оплачивают т.к. сталкиваются с трудностями при оплате. Следовательно, CR выше в том варианте, где пользователю проще проивзести оплату.\n",
    "* `ARPU` - отношение общей суммы на количество активных пользователей.\n",
    "Важный показатель для бизнеса, при увеличении этого показателя бизнес получает больше денег.\n",
    "* `ARPPU` - отношение общей суммы на количество активных оплативших пользователей.\n",
    "Причины выбора этой метрики такие же, как и в случае с ARPU.\n"
   ]
  },
  {
   "cell_type": "code",
   "execution_count": 36,
   "id": "1135cab5",
   "metadata": {},
   "outputs": [
    {
     "name": "stdout",
     "output_type": "stream",
     "text": [
      "\u001b[1mCR \u001b[0m\n",
      "Конверсия оплативших пользователей:\n",
      "Группа А: 0.0507 \n",
      "Группа В: 0.0462 \n",
      "Конверсия у группы B на 8.9 % меньше, чем у группы А\n",
      "\n",
      "\u001b[1mARPPU \u001b[0m\n",
      "Отношение общей суммы на количество активных оплативших пользователей:\n",
      "Группа А: 933.59 \n",
      "Группа В: 1257.88 \n",
      "ARPPU группы В на 34.74 % больше, чем у группы А\n",
      "\n",
      "\u001b[1mARPU\u001b[0m\n",
      "Отношение общей суммы на количество активных пользователей:\n",
      "Группа А: 47.35 \n",
      "Группа В: 58.06 \n",
      "ARPU группы В на 22.62 % больше, чем у группы А\n"
     ]
    }
   ],
   "source": [
    "print('\\033[1mCR \\033[0m\\nКонверсия оплативших пользователей:\\nГруппа А:', \n",
    "                                             round(a_group_paid.id.count() / a_group.id.count(), 4),\n",
    "                                             '\\nГруппа В:', \n",
    "                                             round(b_group_paid.id.count() / b_group.id.count(), 4),\n",
    "      '\\nКонверсия у группы B на', abs(round((round(b_group_paid.id.count() / b_group.id.count(), 4) - \n",
    "                                   round(a_group_paid.id.count() / a_group.id.count(), 4)) / \n",
    "                                   round(a_group_paid.id.count() / a_group.id.count(), 4), 3) * 100), '%',\n",
    "      'больше, чем у группы А' if round((round(b_group_paid.id.count() / b_group.id.count(), 4) - \n",
    "                                  round(a_group_paid.id.count() / a_group.id.count(), 4)) / \n",
    "                                  round(a_group_paid.id.count() / a_group.id.count(), 4), 3) * 100 > 0 \n",
    "                               else 'меньше, чем у группы А')\n",
    "\n",
    "print('\\n\\033[1mARPPU \\033[0m\\nОтношение общей суммы на количество активных оплативших пользователей:\\nГруппа А:',\n",
    "                                                                                      round(a_group_paid.rev.mean(), 2), \n",
    "                                                                                     '\\nГруппа В:', \n",
    "                                                                                      round(b_group_paid.rev.mean(), 2),\n",
    "      '\\nARPPU группы В на', round(round(b_group_paid.rev.mean() - a_group_paid.rev.mean(), 2) /\n",
    "                             round(a_group_paid.rev.mean(), 2) * 100, 2),'%',\n",
    "      'больше, чем у группы А' if round(round(b_group_paid.rev.mean() - a_group_paid.rev.mean(), 2) /\n",
    "                                  round(a_group_paid.rev.mean(), 2) * 100, 2) > 0 \n",
    "                               else 'меньше, чем у группы А/n')\n",
    "\n",
    "print('\\n\\033[1mARPU\\033[0m\\nОтношение общей суммы на количество активных пользователей:\\nГруппа А:',\n",
    "                                                                          round(a_group_paid.rev.sum() / a_group.id.count(), 2),\n",
    "                                                                          '\\nГруппа В:', \n",
    "                                                                          round(b_group_paid.rev.sum() / b_group.id.count(), 2),\n",
    "      '\\nARPU группы В на', \n",
    "      round((round(b_group_paid.rev.sum() / b_group.id.count(), 2) - round(a_group_paid.rev.sum() / a_group.id.count(), 2)) /\n",
    "      round(a_group_paid.rev.sum() / a_group.id.count(), 2) * 100, 2), '%',\n",
    "      'больше, чем у группы А' if \n",
    "      round((round(b_group_paid.rev.sum() / b_group.id.count(), 2) - round(a_group_paid.rev.sum() / a_group.id.count(), 2)) /\n",
    "      round(a_group_paid.rev.sum() / a_group.id.count(), 2) * 100, 2) > 0\n",
    "                               else 'меньше, чем у группы А')"
   ]
  },
  {
   "cell_type": "markdown",
   "id": "d3235e3e",
   "metadata": {},
   "source": [
    "### Имеются ли различия в показателях и с чем они могут быть связаны?\n",
    "Наблюдаем отрицательный эффект `CR`, и положительные эффекты в `ARPU` и `ARPPU`. Другими словами: конверсия падает, но доход на пользователя/покупателя растёт. Это может быть связано c отсечением части пользователей платящих малые суммы с одновременным увеличением среднего чека.\n",
    "\n",
    "### Являются ли эти различия статистически значимыми?\n",
    "Размеры групп очень сильно отличаются, поэтому классические тесты могут давать большие погрешности. В таких случаях идеально подходит `bootstrap`.\n",
    "\n",
    "* Строим `bootstrap` распределения для групп А и B.\n",
    "* Вычислим их разницу.\n",
    "* В получившемся рапределении разницы находим доверительных интервал.\n",
    "* Проверяем, попадает ли доверительный интервал в 0. Если да, то нулевая гипотеза на данном уровне значимости принимается, если нет - отвергается.\n",
    "------\n",
    "\n",
    "Напишем функцию, которая позволит проверять гипотезы с помощью bootstrap:"
   ]
  },
  {
   "cell_type": "code",
   "execution_count": 193,
   "id": "c68c255a",
   "metadata": {},
   "outputs": [],
   "source": [
    "# функция для проверки гипотез с помощью бутстрапа\n",
    "def get_bootstrap(\n",
    "    data_column_1,                       # числовые значения первой (контрольной) выборки\n",
    "    data_column_2,                       # числовые значения второй (тестовой) выборки\n",
    "    boot_it   = 1000,                    # количество бутстрэп-подвыборок\n",
    "    statistic = np.mean,                 # интересующая нас статистика\n",
    "    bootstrap_conf_level = 0.95,         # уровень значимости\n",
    "    graph         = True,                # отрисовывать ли график\n",
    "    show_progress = True                 # показывать ли индикатор програсса\n",
    "    ):\n",
    "    boot_len  = max([len(data_column_1), len(data_column_2)])\n",
    "    boot_data = []\n",
    "    \n",
    "    # выбираем отрисовывать индикатора програсса или нет\n",
    "    if show_progress:\n",
    "        progress_bar = tqdm\n",
    "    else:\n",
    "        progress_bar = lambda x: x\n",
    "    \n",
    "    for i in progress_bar(range(boot_it)):        # извлекаем подвыборки\n",
    "        samples_1 = data_column_1.sample(\n",
    "            boot_len, \n",
    "            replace = True                        # параметр возвращения\n",
    "        ).values\n",
    "        \n",
    "        samples_2 = data_column_2.sample(\n",
    "            boot_len, \n",
    "            replace = True\n",
    "        ).values\n",
    "        \n",
    "        samples_delta = samples_2 - samples_1      # находим разницу подвыборок\n",
    "        boot_data.append(statistic(samples_delta)) # применяем статистику для разниц подвыборок\n",
    "        \n",
    "    pd_boot_data = pd.DataFrame(boot_data)\n",
    "\n",
    "    # доверительный интервал \n",
    "    left_quant  = (1 - bootstrap_conf_level)/2\n",
    "    right_quant = 1 - (1 - bootstrap_conf_level) / 2\n",
    "    ci = pd_boot_data.quantile([left_quant, right_quant])\n",
    "        \n",
    "    p_1 = norm.cdf(\n",
    "        x     = 0, \n",
    "        loc   = np.mean(boot_data), \n",
    "        scale = np.std(boot_data)\n",
    "    )\n",
    "    p_2 = norm.cdf(\n",
    "        x     = 0, \n",
    "        loc   = -np.mean(boot_data), \n",
    "        scale = np.std(boot_data)\n",
    "    )\n",
    "    p_value = min(p_1, p_2) * 2\n",
    "        \n",
    "    # отисовка графиков\n",
    "    if graph == True:\n",
    "        plt.hist(pd_boot_data[0], bins = 50)\n",
    "        plt.style.use('ggplot')\n",
    "        plt.vlines(ci, ymin=0, ymax=50, linestyle='--')\n",
    "        plt.xlabel('boot_data')\n",
    "        plt.ylabel('frequency')\n",
    "        plt.title(\"Histogram of boot_data\")\n",
    "        plt.show()\n",
    "       \n",
    "    return {\"ci\": ci, \n",
    "            \"p_value\": p_value}"
   ]
  },
  {
   "cell_type": "markdown",
   "id": "92dd7652",
   "metadata": {},
   "source": [
    "Определим функции для метрик:"
   ]
  },
  {
   "cell_type": "code",
   "execution_count": 194,
   "id": "90d4b2ce",
   "metadata": {},
   "outputs": [],
   "source": [
    "def cr_func(x):\n",
    "    '''\n",
    "    CR\n",
    "    Для корректной работы функции в качестве аргумента y \n",
    "    необходимо передать серию со значениями 1 и 0, или True и False,\n",
    "    в соответствие с тем произошло ожидаемое событие или нет.\n",
    "    '''\n",
    "    return sum(x) / len(x)\n",
    "\n",
    "def arpu_func(y):\n",
    "    '''\n",
    "    ARPU\n",
    "    Для корректной работы функции в качестве аргумента y \n",
    "    необходимо передать серию, где все NaN-значения заменнены на нули\n",
    "    '''\n",
    "    return np.mean(y)\n",
    "\n",
    "def arppu_func(y):\n",
    "    '''\n",
    "    ARPPU\n",
    "    Для корректной работы функции в качестве аргумента y \n",
    "    необходимо передать серию, где отобраны только платежи, т.е. отфильтрованы нули\n",
    "    или вместо нулей стоят NaN.\n",
    "    '''\n",
    "    return np.mean(y)"
   ]
  },
  {
   "cell_type": "markdown",
   "id": "10a13fc7",
   "metadata": {},
   "source": [
    "### CR\n",
    "\n",
    "Сформулируем нулевую и альтернативную гипотезы:\n",
    "\n",
    "* `H0`: CR в двух группах одинаковые.\n",
    "* `H1`: CR в двух группах различаются."
   ]
  },
  {
   "cell_type": "code",
   "execution_count": 184,
   "id": "7d52e63a",
   "metadata": {},
   "outputs": [
    {
     "data": {
      "application/vnd.jupyter.widget-view+json": {
       "model_id": "0193dbed568a41a2b8ce0ac200e197c8",
       "version_major": 2,
       "version_minor": 0
      },
      "text/plain": [
       "  0%|          | 0/1000 [00:00<?, ?it/s]"
      ]
     },
     "metadata": {},
     "output_type": "display_data"
    },
    {
     "data": {
      "image/png": "[encoded data removed]",
      "text/plain": [
       "<Figure size 432x288 with 1 Axes>"
      ]
     },
     "metadata": {},
     "output_type": "display_data"
    },
    {
     "data": {
      "text/plain": [
       "{'ci':               0\n",
       " 0.025 -0.011322\n",
       " 0.975  0.002944,\n",
       " 'p_value': 0.2166367695946706}"
      ]
     },
     "execution_count": 184,
     "metadata": {},
     "output_type": "execute_result"
    }
   ],
   "source": [
    "get_bootstrap(a_group.payment, b_group.payment, statistic = cr_func)"
   ]
  },
  {
   "cell_type": "markdown",
   "id": "f21dd54b",
   "metadata": {},
   "source": [
    "Доверительный интервал **попадает в 0**, недостаточно оснований отвергнуть нулевую гипотезу. Нельзя утверждать, что различия CR в двух группах есть.\n",
    "\n",
    "### ARPU\n",
    "Сформулируем нулевую и альтернативную гипотезы:\n",
    "\n",
    "* `H0`: ARPU в двух группах одинаковые.\n",
    "* `H1`: ARPU в двух группах различаются."
   ]
  },
  {
   "cell_type": "code",
   "execution_count": 185,
   "id": "e993f078",
   "metadata": {},
   "outputs": [
    {
     "data": {
      "application/vnd.jupyter.widget-view+json": {
       "model_id": "27010f9bae204039800d1aacbf625f77",
       "version_major": 2,
       "version_minor": 0
      },
      "text/plain": [
       "  0%|          | 0/1000 [00:00<?, ?it/s]"
      ]
     },
     "metadata": {},
     "output_type": "display_data"
    },
    {
     "data": {
      "image/png": "[encoded data removed]",
      "text/plain": [
       "<Figure size 432x288 with 1 Axes>"
      ]
     },
     "metadata": {},
     "output_type": "display_data"
    },
    {
     "data": {
      "text/plain": [
       "{'ci':                0\n",
       " 0.025   1.257890\n",
       " 0.975  20.806858,\n",
       " 'p_value': 0.037211926726962816}"
      ]
     },
     "execution_count": 185,
     "metadata": {},
     "output_type": "execute_result"
    }
   ],
   "source": [
    "get_bootstrap(a_group.rev, b_group.rev, statistic = arpu_func)"
   ]
  },
  {
   "cell_type": "markdown",
   "id": "726ce467",
   "metadata": {},
   "source": [
    "Доверительный интервал **не попадает в 0**, отвергаем нулевую гипотезу. ARPU в двух группах различаются.\n",
    "\n",
    "### ARPPU\n",
    "Сформулируем нулевую и альтернативную гипотезы:\n",
    "\n",
    "* `H0`: ARPPU в двух группах одинаковые.\n",
    "* `H1`: ARPPU в двух группах различаются."
   ]
  },
  {
   "cell_type": "code",
   "execution_count": 186,
   "id": "9eb79cdf",
   "metadata": {},
   "outputs": [
    {
     "data": {
      "application/vnd.jupyter.widget-view+json": {
       "model_id": "c2bb625bc0ee44a8b7f7f733b4a9b3b0",
       "version_major": 2,
       "version_minor": 0
      },
      "text/plain": [
       "  0%|          | 0/1000 [00:00<?, ?it/s]"
      ]
     },
     "metadata": {},
     "output_type": "display_data"
    },
    {
     "data": {
      "image/png": "[encoded data removed]",
      "text/plain": [
       "<Figure size 432x288 with 1 Axes>"
      ]
     },
     "metadata": {},
     "output_type": "display_data"
    },
    {
     "data": {
      "text/plain": [
       "{'ci':                 0\n",
       " 0.025  184.456936\n",
       " 0.975  451.854951,\n",
       " 'p_value': 1.8471000615060767e-06}"
      ]
     },
     "execution_count": 186,
     "metadata": {},
     "output_type": "execute_result"
    }
   ],
   "source": [
    "get_bootstrap(a_group.rev[a_group.rev > 0], b_group.rev[b_group.rev > 0], statistic = arppu_func)"
   ]
  },
  {
   "cell_type": "markdown",
   "id": "b1a5882e",
   "metadata": {},
   "source": [
    "Доверительный интервал **не попадает в 0**, отвергаем нулевую гипотезу. ARPPU в двух группах различаются.\n",
    "\n",
    "### Стоит ли запускать новую механику на всех пользователей?\n",
    "Да, новая механика оплаты даёт статистически значимый прирост в метриках ARPU и ARPPU, отрицательное изменение метрики CR не подтвердилось.\n",
    "\n",
    "# Задание 2. SQL\n",
    "\n",
    "## 2.1 Очень усердные ученики\n",
    "\n",
    "Сопоставим все термины для понимания:\n",
    "\n",
    "* карточки = задания = горошины,\n",
    "* студент = ученик,\n",
    "* усердный - 20 горошин (карточек / заданий) в месяц,\n",
    "* очень усердный - 20 горошин (карточек / заданий) в час.\n",
    "\n",
    "Ищем количетсво очень усердных студентов за март 2020, т.е. тех кто в течение марта 2020 смог выполнить хотя бы один раз 20 горошин в течение часа.\n",
    "\n",
    "```sql\n",
    "SELECT \n",
    "    COUNT(DISTINCT sq.st_id) AS hardworking_students          -- считаем количество отобранных уникальных студентов \n",
    "FROM (                                                        -- подзапрос\n",
    "    SELECT  \n",
    "        st_id, \n",
    "        timest,\n",
    "        SUM(correct) OVER W AS peas_per_hour                  -- считаем кличество правильно решённых горошин в окне (в час)\n",
    "    FROM peas\n",
    "    WHERE \n",
    "        extract(Month from timest) = 3                        -- месяц = 3 (март)\n",
    "        AND \n",
    "        extract(Year from timest) = 2020                      -- год = 2020\n",
    "    WINDOW W AS (\n",
    "            PARTITION BY st_id                                -- группируем по id студента\n",
    "            ORDER BY timest                                   -- сортируем по времени\n",
    "            RANGE BETWEEN '1 hour' PRECEDING AND CURRENT ROW) -- выбираем окно с 1 часа назад до текущей строки\n",
    "    ) AS sq\n",
    "WHERE sq.peas_per_hour >= 20                                  -- отбираем только тех где количество горошин в час >= 20\n",
    "```\n",
    "\n",
    "## 2.2 Оптимизация воронки\n",
    "Активным будем считать тех, кто хотя бы раз выполнил 30 заданий в день. Т.е. те, кто столкнулся с лимитом выполнения задач.\n",
    "\n",
    "* **ARPU** (Average Revenue Per User ) - отношение выручки к общему количеству пользователей.\n",
    "* **ARPAU** (Average Revenue Per Active User) - отношение выручки к количеству активных пользователей.\n",
    "* **CR в покупку** - отношение количества купивших пользователей к общему количеству пользователей.\n",
    "* **СR активного пользователя в покупку** - отношение количества купивших активных пользователей к общему количеству активных пользователей.\n",
    "* **CR пользователя из активности по математике (subject = ’math’) в покупку курса по математике** - отношение количества купивших активных в математике пользователей к общему количеству активных в математике пользователей.\n",
    "\n",
    "### План\n",
    "1. Из таблицы `peas` получим список уникальных пользователей с отметками \"0\" или \"1\" об активности в целом.\n",
    "2. Из таблицы `peas` получим список уникальных пользователей с отметками \"0\" или \"1\" об активности в математике.\n",
    "3. Из таблицы `studs` получим данные о принадлежности пользователя к группе (test/control).\n",
    "4. Из таблицы `checks` получим список оплативших пользователей со значениями \"0\" и \"1\" для купивших любой предмет и купивших математику.\n",
    "5. Джойним 4 подзапроса.\n",
    "6. Агрегируем полученные поля для подсчёта нужных метрик.\n",
    "\n",
    "------------\n",
    "\n",
    "### 1. Из таблицы `peas` получим список уникальных пользователей с отметками \"0\" или \"1\" об активности в целом.\n",
    "```sql\n",
    "(-- АКТИВНЫЕ ПОЛЬЗОВАТЕЛИ\n",
    "SELECT actives.st_id, \n",
    "    MAX(CASE WHEN actives.peas_per_day >= 30 THEN 1 ELSE 0 END) AS active_in_total\n",
    "FROM \n",
    "    (\n",
    "    SELECT                                            -- считаем количество горошин в день \n",
    "        st_id, \n",
    "        timest, \n",
    "        SUM(correct) OVER W AS peas_per_day, \n",
    "        subject\n",
    "    FROM peas \n",
    "    WINDOW W AS (\n",
    "            PARTITION BY st_id                        -- группировка по студентам\n",
    "            ORDER BY timest\n",
    "            RANGE BETWEEN '1 day' PRECEDING AND CURRENT ROW\n",
    "            ) \n",
    "    ) AS actives\n",
    "GROUP BY st_id\n",
    ") AS at\n",
    "```\n",
    "\n",
    "* В разделе `SELECT` используется конструкция `CASE WHEN actives.peas_per_day >= 30 THEN 1 ELSE 0 END` - это аналог `IF`, который позволяет в `SELECTe` заменять null-значения на 0.\n",
    "* В подзапросе этого подзапроса в строке `SUM(correct) OVER W AS peas_per_day` мы с помощью окна `W` находим сумму правильно решёных задач. Т.к. поле `correct` содержит значения 0 для нерешённых и 1 для решённых, то такой запрос позволяет нам найти количество решённых задач в день.\n",
    "* Параметры окна указываются после ключевого слова `WINDOW`. `PARTITION BY st_id` - группировать по студентам, `ORDER BY timest` - этот параметр одновременно и сортирует и указывает по какому полю будем брать окно, в данном случае - это время выполнения задачи.\n",
    "\n",
    "### 2. Из таблицы `peas` получим список уникальных пользователей с отметками \"0\" или \"1\" об активности в математике.\n",
    "```sql\n",
    "(-- АКТИВНЫЕ ПОЛЬЗОВАТЕЛИ по математике\n",
    "SELECT active_by_subj.st_id, \n",
    "    MAX(CASE WHEN active_by_subj.math_per_day >= 30 THEN 1 ELSE 0 END) AS active_in_math\n",
    "FROM \n",
    "    (\n",
    "    SELECT     -- считаем количество горошин в день по предметам\n",
    "        st_id, \n",
    "        timest, \n",
    "        SUM(correct) OVER W2 AS math_per_day, \n",
    "        subject\n",
    "    FROM peas \n",
    "    WINDOW W2 AS (\n",
    "            PARTITION BY st_id, subject                       -- группировка по студентам  и предметам\n",
    "            ORDER BY timest\n",
    "            RANGE BETWEEN '1 day' PRECEDING AND CURRENT ROW\n",
    "            ) \n",
    "    ) AS active_by_subj\n",
    "```\n",
    "Данный подзапрос аналогичен предыдущему.\n",
    "\n",
    "### 3. Из таблицы `studs` получим данные о принадлежности пользователя к группе (test/control).\n",
    "Здесь мы просто джойним таблицу `studs` без дополнительных преобразований.\n",
    "```sql\n",
    "JOIN \n",
    "    -- ОТМЕТКИ test / control\n",
    "    studs     \n",
    "ON at.st_id = studs.st_id\n",
    "```\n",
    "\n",
    "### 4. Из таблицы `checks` получим список оплативших пользователей со значениями \"0\" и \"1\" для купивших любой предмет и купивших математику.\n",
    "\n",
    "```sql\n",
    "--ПОКУПКА ЛЮБОГО ПРЕДМЕТА, ПОКУПКА МАТЕМАТИКИ\n",
    "(\n",
    "SELECT st_id, SUM(money) AS money,\n",
    "    1 AS sale_subject,\n",
    "    MAX(CASE WHEN subject = 'math' THEN 1 ELSE 0 END) AS sale_math\n",
    "FROM checks \n",
    "GROUP BY st_id\n",
    ") AS s\n",
    "```\n",
    "\n",
    "В этом подзапросе формируем две колонки, одна из которых `sale_subject` будет заполнена единицами, что говорит о совершении покупки пользователем (все единицы, т.к. это список купишвих пользователей, здесь нет других). Во второй `sale_math` - назначаем 1 пользователю купившему математику и 0 не купившему.\n",
    "\n",
    "### 5. Джойним 4 подзапроса.\n",
    "### 6. Агрегируем полученные поля для подсчёта нужных метрик.\n",
    "\n",
    "#### Результирующий запрос\n",
    "```sql\n",
    "SELECT \n",
    "    studs.test_grp, \n",
    "    COALESCE(SUM(s.money), 0) / COUNT(at.st_id) AS ARPU,\n",
    "    COALESCE(SUM(s.money), 0) / SUM(at.active_in_total) AS ARPAU,\n",
    "    COALESCE(SUM(s.sale_subject), 0)::float / COUNT(at.st_id) AS CR,\n",
    "    SUM(CASE WHEN at.active_in_total = 1 AND s.sale_subject = 1 THEN 1 ELSE 0 END)::float / SUM(at.active_in_total) AS СR_active,\n",
    "    SUM(CASE WHEN am.active_in_math = 1 AND s.sale_math = 1 THEN 1 ELSE 0 END)::float / SUM(am.active_in_math) AS CR_math\n",
    "FROM\n",
    "    (-- АКТИВНЫЕ ПОЛЬЗОВАТЕЛИ\n",
    "    SELECT actives.st_id, \n",
    "        MAX(CASE WHEN actives.peas_per_day >= 30 THEN 1 ELSE 0 END) AS active_in_total\n",
    "    FROM \n",
    "        (\n",
    "        SELECT     -- считаем количество горошин в день \n",
    "            st_id, \n",
    "            timest, \n",
    "            SUM(correct) OVER W AS peas_per_day, \n",
    "            subject\n",
    "        FROM peas \n",
    "        WINDOW W AS (\n",
    "                PARTITION BY st_id                        -- группировка по студентам\n",
    "                ORDER BY timest\n",
    "                RANGE BETWEEN '1 day' PRECEDING AND CURRENT ROW\n",
    "                ) \n",
    "        ) AS actives\n",
    "    GROUP BY st_id\n",
    "    ) AS at\n",
    "INNER JOIN\n",
    "    (-- АКТИВНЫЕ ПОЛЬЗОВАТЕЛИ по математике\n",
    "    SELECT active_by_subj.st_id, \n",
    "        MAX(CASE WHEN active_by_subj.math_per_day >= 30 THEN 1 ELSE 0 END) AS active_in_math\n",
    "    FROM \n",
    "        (\n",
    "        SELECT     -- считаем количество горошин в день по предметам\n",
    "            st_id, \n",
    "            timest, \n",
    "            SUM(correct) OVER W2 AS math_per_day, \n",
    "            subject\n",
    "        FROM peas \n",
    "        WINDOW W2 AS (\n",
    "                PARTITION BY st_id, subject                       -- группировка по студентам  и предметам\n",
    "                ORDER BY timest\n",
    "                RANGE BETWEEN '1 day' PRECEDING AND CURRENT ROW\n",
    "                ) \n",
    "        ) AS active_by_subj\n",
    "    GROUP BY st_id\n",
    "    ) AS am\n",
    "ON at.st_id = am.st_id\n",
    "INNER JOIN \n",
    "    -- отметки test / control\n",
    "    studs     \n",
    "ON at.st_id = studs.st_id\n",
    "LEFT JOIN\n",
    "    --покупка любого предмета, покупка математики\n",
    "    (\n",
    "    SELECT st_id, SUM(money) AS money,\n",
    "        1 AS sale_subject,\n",
    "        MAX(CASE WHEN subject = 'math' THEN 1 ELSE 0 END) AS sale_math\n",
    "    FROM checks \n",
    "    GROUP BY st_id\n",
    "    ) AS s\n",
    "ON at.st_id = s.st_id\n",
    "GROUP BY test_grp\n",
    "```"
   ]
  },
  {
   "cell_type": "markdown",
   "id": "2ef170bb",
   "metadata": {},
   "source": [
    "#### Пояснения по блоку SELECT\n",
    "\n",
    "```sql\n",
    "1. studs.test_grp -- колонка со значением групп: test и control.\n",
    "```\n",
    "```sql\n",
    "2. COALESCE(SUM(s.money), 0) / COUNT(at.st_id) AS ARPU -- функция COALESCE() позволяет в данном случае заменить null на 0 и корректно посчитать сумму.\n",
    "```\n",
    "```sql\n",
    "3. COALESCE(SUM(s.money), 0) / SUM(at.active_in_total) AS ARPAU -- точно также, как и в предыдущем случае функция COALESCE() заменяет null на 0.\n",
    "```\n",
    "```sql\n",
    "4. COALESCE(SUM(s.sale_subject), 0)::float / COUNT(at.st_id) AS CR -- точно также COALESCE() заменяет null на 0 и, т.к. и в числителе и в знаменателе целые числа, то и результат получается тоже целочисленным (в данном случае 0), чтобы исправить это переводим числитель во float (::float).\n",
    "```\n",
    "```sql\n",
    "5. SUM(CASE WHEN at.active_in_total = 1 AND s.sale_subject = 1 THEN 1 ELSE 0 END)::float / SUM(at.active_in_total) AS СR_active -- здесь для отбора активных дополнительно используем конструкцию CASE END - это аналог IF. Для подсчёта СR_active отбираем только активных.\n",
    "```\n",
    "```sql\n",
    "6. SUM(CASE WHEN am.active_in_math = 1 AND s.sale_math = 1 THEN 1 ELSE 0 END)::float / SUM(am.active_in_math) AS CR_math -- аналогичным образом отбираем только активных в математике.\n",
    "```\n",
    "\n",
    "# Задание 3. Python\n",
    "\n",
    "Предположим, что у нас уже есть рабочий датафрейм:"
   ]
  },
  {
   "cell_type": "code",
   "execution_count": 195,
   "id": "beb83a03",
   "metadata": {},
   "outputs": [
    {
     "data": {
      "text/html": [
       "<div>\n",
       "<style scoped>\n",
       "    .dataframe tbody tr th:only-of-type {\n",
       "        vertical-align: middle;\n",
       "    }\n",
       "\n",
       "    .dataframe tbody tr th {\n",
       "        vertical-align: top;\n",
       "    }\n",
       "\n",
       "    .dataframe thead th {\n",
       "        text-align: right;\n",
       "    }\n",
       "</style>\n",
       "<table border=\"1\" class=\"dataframe\">\n",
       "  <thead>\n",
       "    <tr style=\"text-align: right;\">\n",
       "      <th></th>\n",
       "      <th>id</th>\n",
       "      <th>grp</th>\n",
       "      <th>activity</th>\n",
       "      <th>rev</th>\n",
       "      <th>payment</th>\n",
       "      <th>step</th>\n",
       "    </tr>\n",
       "  </thead>\n",
       "  <tbody>\n",
       "    <tr>\n",
       "      <th>0</th>\n",
       "      <td>1489</td>\n",
       "      <td>B</td>\n",
       "      <td>NaN</td>\n",
       "      <td>NaN</td>\n",
       "      <td>NaN</td>\n",
       "      <td>0</td>\n",
       "    </tr>\n",
       "    <tr>\n",
       "      <th>1</th>\n",
       "      <td>1627</td>\n",
       "      <td>A</td>\n",
       "      <td>1.0</td>\n",
       "      <td>990.0</td>\n",
       "      <td>1.0</td>\n",
       "      <td>0</td>\n",
       "    </tr>\n",
       "    <tr>\n",
       "      <th>2</th>\n",
       "      <td>1768</td>\n",
       "      <td>B</td>\n",
       "      <td>NaN</td>\n",
       "      <td>NaN</td>\n",
       "      <td>NaN</td>\n",
       "      <td>0</td>\n",
       "    </tr>\n",
       "    <tr>\n",
       "      <th>3</th>\n",
       "      <td>1783</td>\n",
       "      <td>B</td>\n",
       "      <td>NaN</td>\n",
       "      <td>NaN</td>\n",
       "      <td>NaN</td>\n",
       "      <td>0</td>\n",
       "    </tr>\n",
       "    <tr>\n",
       "      <th>4</th>\n",
       "      <td>1794</td>\n",
       "      <td>A</td>\n",
       "      <td>NaN</td>\n",
       "      <td>NaN</td>\n",
       "      <td>NaN</td>\n",
       "      <td>0</td>\n",
       "    </tr>\n",
       "  </tbody>\n",
       "</table>\n",
       "</div>"
      ],
      "text/plain": [
       "     id grp  activity    rev  payment  step\n",
       "0  1489   B       NaN    NaN      NaN     0\n",
       "1  1627   A       1.0  990.0      1.0     0\n",
       "2  1768   B       NaN    NaN      NaN     0\n",
       "3  1783   B       NaN    NaN      NaN     0\n",
       "4  1794   A       NaN    NaN      NaN     0"
      ]
     },
     "execution_count": 195,
     "metadata": {},
     "output_type": "execute_result"
    }
   ],
   "source": [
    "# рабочий датафрэйм\n",
    "total_test = (\n",
    "    groups\n",
    "    .merge(\n",
    "        active_studs\n",
    "            .assign(activity=1)\n",
    "            .rename(columns={'student_id': 'id'})\n",
    "        ,on='id', how='outer'\n",
    "        )\n",
    "    .merge(\n",
    "        checks\n",
    "            .assign(payment = 1)\n",
    "            .rename(columns={'student_id': 'id'})\n",
    "        ,on='id', how='outer'\n",
    "    )\n",
    "    .assign(step=0)\n",
    ")\n",
    "total_test.head()"
   ]
  },
  {
   "cell_type": "markdown",
   "id": "b5f96c1d",
   "metadata": {},
   "source": [
    "У нас имеется ссылка на дополнительный файл (на Яндекс.Диске, или локально):"
   ]
  },
  {
   "cell_type": "code",
   "execution_count": 196,
   "id": "7bd0d2bc",
   "metadata": {},
   "outputs": [],
   "source": [
    "# ссылка на дополнительный файл\n",
    "add_csv_link = 'https://disk.yandex.ru/d/3aARY-P9pfaksg'\n",
    "# или add_csv_link = 'group_add.csv'"
   ]
  },
  {
   "cell_type": "markdown",
   "id": "5bdb3f3f",
   "metadata": {},
   "source": [
    "Напишем несколько вспомогательных функций:"
   ]
  },
  {
   "cell_type": "code",
   "execution_count": 197,
   "id": "b1681e2e",
   "metadata": {},
   "outputs": [],
   "source": [
    "# выделяем активных, заполняем пропуски нулями\n",
    "def get_active(df, to_dropna_ls=['activity', 'grp'], to_fillna_ls=['payment', 'rev']):\n",
    "    '''\n",
    "    df - датафрейм\n",
    "    to_dropna_ls - указываем список колонок датафрэйма, по которым удаляем строки с NaN\n",
    "    to_fillna_ls - указываем список колонок датафрэйма, по которым NaN заполняем нулями \n",
    "    '''\n",
    "    df = (df\n",
    "         .copy()\n",
    "         .dropna(subset=to_dropna_ls)\n",
    "         )\n",
    "    for i in to_fillna_ls:\n",
    "        df[i] = df[i].fillna(0)\n",
    "    return df\n",
    "\n",
    "\n",
    "# определяем разделитель в csv-файле\n",
    "def get_sep(file_link):\n",
    "    with open(file_link, 'r') as file:\n",
    "        temp = file.readline()\n",
    "    pattern = re.compile(r'\\w*([,;])\\w*')\n",
    "    return pattern.findall(temp)[0]\n",
    "\n",
    "\n",
    "# переименовываем колонки в соответствие с типом данных\n",
    "def columns_renamer(df):\n",
    "    if str(df.iloc[0, 0]).isalpha():\n",
    "        df.columns = ['grp', 'id']\n",
    "    else:\n",
    "        df.columns = ['id', 'grp']"
   ]
  },
  {
   "cell_type": "markdown",
   "id": "78dcb228",
   "metadata": {},
   "source": [
    "Далее, напишем функцию, которая будет автоматически подгружать информацию из дополнительного файла `groups_add.csv` и пересчитывать метрики:"
   ]
  },
  {
   "cell_type": "code",
   "execution_count": 205,
   "id": "531768f3",
   "metadata": {},
   "outputs": [],
   "source": [
    "def get_update(work_df, add_csv_link, final=False):\n",
    "    '''\n",
    "    Функция обновления данных и пересчёта метрик.\n",
    "    На выходе поучаем датафрэйм со значениями метрик и p-value, \n",
    "    каждая строка - новый степ добавления данных (номер обновления показан в колонке step, \n",
    "    шаг 0 - значения без доп. файла/обновления)\n",
    "    work_df       - объединённый дф из groups.csv, active_studs.csv, checks.csv (получены в первый раз).\n",
    "    add_csv_link  - ссылка на дополнительный файл groups_add.csv, \n",
    "                    возможно использование web-ссылки на Яндекс.Диск, или ссылки на файл в файловой системе.\n",
    "    final         - если True, выведет только последнюю (финальную) строку таблицы.\n",
    "    '''\n",
    "    if add_csv_link.startswith('https://'):\n",
    "\n",
    "        # скачиваем дополнительный файл\n",
    "        final_url    = base_url + urlencode(dict(public_key=add_csv_link))\n",
    "        response     = requests.get(final_url)\n",
    "        download_url = response.json()['href']\n",
    "        group_add_df = pd.read_csv(download_url, sep=',')\n",
    "\n",
    "        # загружаем файл и сохраняем его\n",
    "        download_response = requests.get(download_url)\n",
    "        with open('group_add.csv', 'wb') as f:\n",
    "            f.write(download_response.content)\n",
    "\n",
    "        # открываем файл\n",
    "        group_add_df = pd.read_csv('group_add.csv', sep=get_sep('group_add.csv'))\n",
    "\n",
    "    else:\n",
    "        # открываем файл\n",
    "        group_add_df = pd.read_csv(add_csv_link, sep=get_sep(add_csv_link))\n",
    "\n",
    "    # переименуем колонки в соответствие с типом данных\n",
    "    columns_renamer(group_add_df)\n",
    "    \n",
    "    # объединяем основной дф с дополнительным\n",
    "    work_df          = work_df.merge(group_add_df, on='id', how='outer')\n",
    "    work_df['grp_x'] = work_df.grp_x.fillna('')                  # заполняем пропуски пустым символом\n",
    "    work_df['grp_y'] = work_df.grp_y.fillna('')                  # заполняем пропуски пустым символом\n",
    "    work_df['grp']   = work_df.grp_x + work_df.grp_y             # объединяем колонки групп\n",
    "    work_df          = work_df.drop(['grp_x', 'grp_y'], axis=1)  # удаляем колонки grp_x и grp_y\n",
    "    \n",
    "    # присваиваем значения step в добавленных строках\n",
    "    mask = work_df.id.isin(group_add_df.id)             # назначаем маску, согласно которой будем присваивать новый номер степа\n",
    "    work_df.loc[mask, 'step'] = work_df.step.max() + 1  # присваиваем номер степа\n",
    "    work_df['step'] = work_df.step.astype('int')        # переводим колонку степ в int\n",
    "\n",
    "    # оставим только активных\n",
    "    work_df = get_active(work_df)\n",
    "    \n",
    "    # пересчитаем метрики, каждый цикл - новое добавление файла groups_add\n",
    "    df_ab = pd.DataFrame()  # пустой дф для заполнения через цикл\n",
    "\n",
    "    for i in range(work_df.step.max() + 1):  # итеритуемся по максимальному значению колонки step +1\n",
    "        # фильтруем датасет для рассчёта метрик\n",
    "        payment_a      = work_df.query('step <= @i and grp ==\"A\"').payment               \n",
    "        payment_b      = work_df.query('step <= @i and grp ==\"B\"').payment\n",
    "        rev_all_a      = work_df.query('step <= @i and grp ==\"A\"').rev\n",
    "        rev_all_b      = work_df.query('step <= @i and grp ==\"B\"').rev\n",
    "        rev_positive_a = work_df.query('step <= @i and rev > 0 and grp ==\"A\"').rev\n",
    "        rev_positive_b = work_df.query('step <= @i and rev > 0 and grp ==\"B\"').rev\n",
    "\n",
    "        #CR_a\n",
    "        cr_a = cr_func(payment_a)\n",
    "        #CR_b\n",
    "        cr_b = cr_func(payment_b)\n",
    "        #CR p-value\n",
    "        cr_p_value = get_bootstrap(payment_a, \n",
    "                                   payment_b,\n",
    "                                   statistic=cr_func,\n",
    "                                   graph = False,\n",
    "                                   show_progress = False\n",
    "                     )[\"p_value\"]\n",
    "        #ARPU_a\n",
    "        arpu_a = arpu_func(rev_all_a)\n",
    "        #ARPU_b\n",
    "        arpu_b = arpu_func(rev_all_b)\n",
    "        #ARPU p-value\n",
    "        arpu_p_value = get_bootstrap(rev_all_a, \n",
    "                                     rev_all_b,\n",
    "                                     statistic=arpu_func,\n",
    "                                     graph = False,\n",
    "                                     show_progress = False\n",
    "                       )[\"p_value\"]\n",
    "        #ARPPU_a\n",
    "        arppu_a       = arppu_func(rev_positive_a)\n",
    "        #ARPPU_b\n",
    "        arppu_b       = arppu_func(rev_positive_b)\n",
    "        #ARPPU p-value\n",
    "        arppu_p_value = get_bootstrap(rev_positive_a,\n",
    "                                      rev_positive_b,\n",
    "                                      statistic=arppu_func,\n",
    "                                      graph = False,\n",
    "                                      show_progress = False\n",
    "                        )[\"p_value\"]\n",
    "\n",
    "        # временный датафрэйм\n",
    "        temp_df = pd.DataFrame([[cr_a, \n",
    "                                 cr_b, \n",
    "                                 cr_p_value, \n",
    "                                 arpu_a, \n",
    "                                 arpu_b, \n",
    "                                 arpu_p_value, \n",
    "                                 arppu_a, \n",
    "                                 arppu_b, \n",
    "                                 arppu_p_value]],\n",
    "                               columns=['CR_A',\n",
    "                                        'CR_B',\n",
    "                                        'CR_p-value',\n",
    "                                        'ARPU_A',\n",
    "                                        'ARPU_B',\n",
    "                                        'ARPU_p-value', \n",
    "                                        'ARPPU_A',\n",
    "                                        'ARPPU_B',\n",
    "                                        'ARPPU_p-value'])\n",
    "        # добавляем строку в итоговый дф\n",
    "        df_ab = pd.concat([df_ab, temp_df])      \n",
    "    \n",
    "    # сбрасываем индексы\n",
    "    df_ab.reset_index(drop=True, inplace=True)  \n",
    "    df_ab['step'] = df_ab.index\n",
    "    \n",
    "    if final == True:\n",
    "        return df_ab.tail(1)\n",
    "    \n",
    "    return df_ab"
   ]
  },
  {
   "cell_type": "markdown",
   "id": "0ec3c2ad",
   "metadata": {},
   "source": [
    "В функцию `get_update` передадим предварительно сформированный датафрейм `total_test`:"
   ]
  },
  {
   "cell_type": "code",
   "execution_count": 212,
   "id": "3ef72178",
   "metadata": {},
   "outputs": [
    {
     "data": {
      "text/html": [
       "<div>\n",
       "<style scoped>\n",
       "    .dataframe tbody tr th:only-of-type {\n",
       "        vertical-align: middle;\n",
       "    }\n",
       "\n",
       "    .dataframe tbody tr th {\n",
       "        vertical-align: top;\n",
       "    }\n",
       "\n",
       "    .dataframe thead th {\n",
       "        text-align: right;\n",
       "    }\n",
       "</style>\n",
       "<table border=\"1\" class=\"dataframe\">\n",
       "  <thead>\n",
       "    <tr style=\"text-align: right;\">\n",
       "      <th></th>\n",
       "      <th>CR_A</th>\n",
       "      <th>CR_B</th>\n",
       "      <th>CR_p-value</th>\n",
       "      <th>ARPU_A</th>\n",
       "      <th>ARPU_B</th>\n",
       "      <th>ARPU_p-value</th>\n",
       "      <th>ARPPU_A</th>\n",
       "      <th>ARPPU_B</th>\n",
       "      <th>ARPPU_p-value</th>\n",
       "      <th>step</th>\n",
       "    </tr>\n",
       "  </thead>\n",
       "  <tbody>\n",
       "    <tr>\n",
       "      <th>0</th>\n",
       "      <td>0.050814</td>\n",
       "      <td>0.046077</td>\n",
       "      <td>0.209054</td>\n",
       "      <td>47.439739</td>\n",
       "      <td>57.864567</td>\n",
       "      <td>0.056891</td>\n",
       "      <td>933.589744</td>\n",
       "      <td>1255.827487</td>\n",
       "      <td>0.000006</td>\n",
       "      <td>0</td>\n",
       "    </tr>\n",
       "    <tr>\n",
       "      <th>1</th>\n",
       "      <td>0.050715</td>\n",
       "      <td>0.046156</td>\n",
       "      <td>0.220899</td>\n",
       "      <td>47.347204</td>\n",
       "      <td>58.058798</td>\n",
       "      <td>0.038081</td>\n",
       "      <td>933.589744</td>\n",
       "      <td>1257.878992</td>\n",
       "      <td>0.000002</td>\n",
       "      <td>1</td>\n",
       "    </tr>\n",
       "  </tbody>\n",
       "</table>\n",
       "</div>"
      ],
      "text/plain": [
       "       CR_A      CR_B  CR_p-value     ARPU_A     ARPU_B  ARPU_p-value  \\\n",
       "0  0.050814  0.046077    0.209054  47.439739  57.864567      0.056891   \n",
       "1  0.050715  0.046156    0.220899  47.347204  58.058798      0.038081   \n",
       "\n",
       "      ARPPU_A      ARPPU_B  ARPPU_p-value  step  \n",
       "0  933.589744  1255.827487       0.000006     0  \n",
       "1  933.589744  1257.878992       0.000002     1  "
      ]
     },
     "execution_count": 212,
     "metadata": {},
     "output_type": "execute_result"
    }
   ],
   "source": [
    "metrix = get_update(total_test, add_csv_link)\n",
    "metrix"
   ]
  },
  {
   "cell_type": "markdown",
   "id": "7afe608f",
   "metadata": {},
   "source": [
    "Напишем функцию отрисовки графиков:"
   ]
  },
  {
   "cell_type": "code",
   "execution_count": 210,
   "id": "40b9e9f1",
   "metadata": {},
   "outputs": [],
   "source": [
    "def get_graphs(df):\n",
    "    '''\n",
    "    Функция построения графика на основе датасэта, сформированного функцией get_update\n",
    "    Шесть графиков: \n",
    "    по оси X - номер обновления (колонка step в передаваемом дф), показывает \n",
    "    какой раз обновились данные (некий аналог временной шкалы, т.к. не известны даты создания \n",
    "    дополнительных файлов)\n",
    "    по оси Y - метрики (верхний ряд графиков) и p-value этих метрик (нижний ряд графиков)\n",
    "    '''\n",
    "    # формируем датафрэйм для отрисовки метрик\n",
    "    metrix_df = pd.DataFrame(columns = ['step', 'group'])                     # создаём пустой финальный дф для построения графиков метрик\n",
    "    for i in ['CR_', 'ARPU_', 'ARPPU_']:                                      # список части названий колонок для отбора\n",
    "        cols    = df.filter(like = i).columns                                 # отбираем колонки содержащие названия метрик\n",
    "        temp_df = pd.DataFrame()                                              # создаём пустой дф\n",
    "        for j in cols[:2]:                                                    # итерируемся по названиям колонок, кроме p-value\n",
    "            tmp_row         = df[[j, 'step']] \\\n",
    "            .assign(group = j[-1:]) \\\n",
    "            .rename(columns = {j: j[:-2]})  # формируем строку нового дф\n",
    "            temp_df         = pd.concat([temp_df, tmp_row])                   # добавляем строку в промежуточный дф\n",
    "        metrix_df = metrix_df \\\n",
    "                    .merge(temp_df, on=['step', 'group'], how='right')        # объединяем промежуточный дф с финальным\n",
    "    \n",
    "    # формируем блок из 6 графиков\n",
    "    figure, axes = plt.subplots(2, 3, sharex=True, figsize=(16,7))   \n",
    "    \n",
    "    # заголовок\n",
    "    figure.suptitle('Метрики и p-value', fontsize=20)\n",
    "    \n",
    "    # графики CR и p-value для CR\n",
    "    sns.lineplot(ax=axes[0, 0], data=metrix_df, x='step', y='CR', hue='group', linewidth=2)\n",
    "    ax1 = sns.lineplot(ax=axes[1, 0], data=df, x='step', y='CR_p-value', linewidth=2, color=\"#5fa0c6\", label='p-value')\n",
    "    ax1.axhline(0.05, ls='--', linewidth=1.5, color=(1, 0, 0, 0.7), label='p-value = 0.05')\n",
    "    ax1.set_ylabel('P-value для CR')\n",
    "    ax1.set_xlabel('Номер обновления')\n",
    "    ax1.legend()\n",
    "    \n",
    "    # графики ARPU и p-value для ARPU\n",
    "    sns.lineplot(ax=axes[0, 1], data=metrix_df, x='step', y='ARPU', hue='group', linewidth=2)\n",
    "    ax2 = sns.lineplot(ax=axes[1, 1], data=df, x='step', y='ARPU_p-value', linewidth=2, color=\"#5fa0c6\", label='p-value')\n",
    "    ax2.axhline(0.05, ls='--', linewidth=1.5, color=(1, 0, 0, 0.7), label='p-value = 0.05')\n",
    "    ax2.set_ylabel('P-value для ARPU')\n",
    "    ax2.set_xlabel('Номер обновления')\n",
    "    ax2.legend()\n",
    "    \n",
    "    # графики ARPPU и p-value для ARPPU\n",
    "    sns.lineplot(ax=axes[0, 2], data=metrix_df, x='step', y='ARPPU', hue='group', linewidth=2)\n",
    "    ax3 = sns.lineplot(ax=axes[1, 2], data=df, x='step', y='ARPPU_p-value', linewidth=2, color=\"#5fa0c6\", label='p-value')\n",
    "    ax3.axhline(0.05, ls='--', linewidth=1.5, color=(1, 0, 0, 0.7), label='p-value = 0.05')\n",
    "    ax3.set_ylabel('P-value для ARPPU ')\n",
    "    ax3.set_xlabel('Номер обновления')\n",
    "    ax3.set_xticks(range(0, metrix_df.step.max() + 1))  # сделаем шаг по оси х = 1\n",
    "    ax3.legend()\n",
    "    \n",
    "    # устанавливаем лимиты на ось y\n",
    "    plt.gcf().get_axes()[0].set_ylim(0, metrix_df.CR.max() * 1.1)                  \n",
    "    plt.gcf().get_axes()[1].set_ylim(0, metrix_df.ARPU.max() * 1.1)\n",
    "    plt.gcf().get_axes()[2].set_ylim(0, metrix_df.ARPPU.max() * 1.1)\n",
    "    plt.gcf().get_axes()[3].set_ylim(-0.001, max(0.05, metrix['CR_p-value'].max()) * 1.1)\n",
    "    plt.gcf().get_axes()[4].set_ylim(-0.001, max(0.05, metrix['ARPU_p-value'].max()) * 1.1)\n",
    "    plt.gcf().get_axes()[5].set_ylim(-0.001, max(0.05, metrix['ARPPU_p-value'].max()) * 1.1)\n",
    "    \n",
    "    # добавляем расстояния между графиками\n",
    "    plt.subplots_adjust(top=0.92, hspace = 0.1, wspace=0.3)"
   ]
  },
  {
   "cell_type": "markdown",
   "id": "ca0cc619",
   "metadata": {},
   "source": [
    "В функцию `get_graphs` передадим метрики, записанные в переменную `metrix`:"
   ]
  },
  {
   "cell_type": "code",
   "execution_count": 211,
   "id": "19c53a64",
   "metadata": {},
   "outputs": [
    {
     "data": {
      "image/png": "[encoded data removed]",
      "text/plain": [
       "<Figure size 1152x504 with 6 Axes>"
      ]
     },
     "metadata": {},
     "output_type": "display_data"
    }
   ],
   "source": [
    "get_graphs(metrix)"
   ]
  },
  {
   "cell_type": "markdown",
   "id": "11beba23",
   "metadata": {},
   "source": [
    "Таким образом, используя функции `get_update` и `get_graphs` мы можем в несколько кликов получить метрики и графики с учетом новых данных."
   ]
  }
 ],
 "metadata": {
  "kernelspec": {
   "display_name": "Python 3 (ipykernel)",
   "language": "python",
   "name": "python3"
  },
  "language_info": {
   "codemirror_mode": {
    "name": "ipython",
    "version": 3
   },
   "file_extension": ".py",
   "mimetype": "text/x-python",
   "name": "python",
   "nbconvert_exporter": "python",
   "pygments_lexer": "ipython3",
   "version": "3.9.12"
  }
 },
 "nbformat": 4,
 "nbformat_minor": 5
}
